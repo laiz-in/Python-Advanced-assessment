{
 "cells": [
  {
   "attachments": {},
   "cell_type": "markdown",
   "metadata": {},
   "source": [
    "Q1. What is the purpose of the try statement?"
   ]
  },
  {
   "attachments": {},
   "cell_type": "markdown",
   "metadata": {},
   "source": [
    "try statement is used to handle exceptions or errors that may occur during the execution of a block of code. The main purpose of the try statement is to provide a way to execute a block of code and handle any exceptions that might be raised without causing the program to crash"
   ]
  },
  {
   "cell_type": "code",
   "execution_count": null,
   "metadata": {},
   "outputs": [],
   "source": [
    "try:\n",
    "    a=1/0\n",
    "    print(a)\n",
    "    #code block1\n",
    "except Exception as e:\n",
    "    print(e)\n",
    "else:\n",
    "    print(\"no exception is raised\")\n",
    "    # this block is executed if no exception was raised in the try block\n",
    "finally:\n",
    "    print(\"this is finally block and is always executed\")\n",
    "    # this block is always executed, whether an exception was raised or not"
   ]
  },
  {
   "attachments": {},
   "cell_type": "markdown",
   "metadata": {},
   "source": [
    "Q2. What are the two most popular try statement variations?\n"
   ]
  },
  {
   "attachments": {},
   "cell_type": "markdown",
   "metadata": {},
   "source": [
    "* try/except ot try/except/else\n",
    "* try/except/finally"
   ]
  },
  {
   "attachments": {},
   "cell_type": "markdown",
   "metadata": {},
   "source": [
    "try/except is writing a code in try block and if the code raises an error in try block , then there will be an exception block to catch the error and execute some other code block"
   ]
  },
  {
   "cell_type": "code",
   "execution_count": 2,
   "metadata": {},
   "outputs": [
    {
     "name": "stdout",
     "output_type": "stream",
     "text": [
      "error occured\n"
     ]
    }
   ],
   "source": [
    "try:\n",
    "    a=1/0\n",
    "except:\n",
    "    print(\"error occured\")\n",
    "#we can add en \"else\" block after except block . and the esle block will be executed after try block of there is no exceptions raised"
   ]
  },
  {
   "attachments": {},
   "cell_type": "markdown",
   "metadata": {},
   "source": [
    "try/except/finally  -- in this variation , there will be a try block and exception block . and a finally block a well\n",
    "\n",
    "finally block will be executed in all cases"
   ]
  },
  {
   "cell_type": "code",
   "execution_count": 3,
   "metadata": {},
   "outputs": [
    {
     "name": "stdout",
     "output_type": "stream",
     "text": [
      "error occured\n",
      "this is finally block\n"
     ]
    }
   ],
   "source": [
    "try:\n",
    "    a=1/0\n",
    "except:\n",
    "    print(\"error occured\")\n",
    "finally:\n",
    "    print(\"this is finally block\")"
   ]
  },
  {
   "attachments": {},
   "cell_type": "markdown",
   "metadata": {},
   "source": [
    "Q3. What is the purpose of the raise statement?"
   ]
  },
  {
   "attachments": {},
   "cell_type": "markdown",
   "metadata": {},
   "source": [
    " the raise statement is used to raise an exception. use of the raise statement is to tell the program that an error or exception has been occurred, so we can stop the program and execute an exception block."
   ]
  },
  {
   "cell_type": "code",
   "execution_count": 7,
   "metadata": {},
   "outputs": [
    {
     "name": "stdout",
     "output_type": "stream",
     "text": [
      "division by zero\n"
     ]
    }
   ],
   "source": [
    "def divide(a, b):\n",
    "    if b == 0:\n",
    "        raise ZeroDivisionError(\"division by zero\")\n",
    "    return a/b\n",
    "\n",
    "try:\n",
    "    result = divide(1, 0)\n",
    "    print(result)\n",
    "except ZeroDivisionError as e:\n",
    "    print(e)\n"
   ]
  },
  {
   "attachments": {},
   "cell_type": "markdown",
   "metadata": {},
   "source": [
    "Q4. What does the assert statement do, and what other statement is it like?"
   ]
  },
  {
   "attachments": {},
   "cell_type": "markdown",
   "metadata": {},
   "source": [
    "assert statement is used to check whether a given condition is true, and if not, it raises an AssertionError exception with a specific error message. The assert statement is commonly used as a debugging aid to check the correctness of a program during development."
   ]
  },
  {
   "cell_type": "code",
   "execution_count": 12,
   "metadata": {},
   "outputs": [
    {
     "ename": "AssertionError",
     "evalue": "div by zero, enter a number other than zero to b",
     "output_type": "error",
     "traceback": [
      "\u001b[1;31m---------------------------------------------------------------------------\u001b[0m",
      "\u001b[1;31mAssertionError\u001b[0m                            Traceback (most recent call last)",
      "Cell \u001b[1;32mIn[12], line 5\u001b[0m\n\u001b[0;32m      2\u001b[0m     \u001b[39massert\u001b[39;00m b\u001b[39m!=\u001b[39m\u001b[39m0\u001b[39m, \u001b[39m\"\u001b[39m\u001b[39mdiv by zero, enter a number other than zero to b\u001b[39m\u001b[39m\"\u001b[39m\n\u001b[0;32m      3\u001b[0m     \u001b[39mreturn\u001b[39;00m a\u001b[39m/\u001b[39mb\n\u001b[1;32m----> 5\u001b[0m result \u001b[39m=\u001b[39mdivide(\u001b[39m1\u001b[39;49m,\u001b[39m0\u001b[39;49m)\n\u001b[0;32m      6\u001b[0m \u001b[39mprint\u001b[39m(result)\n",
      "Cell \u001b[1;32mIn[12], line 2\u001b[0m, in \u001b[0;36mdivide\u001b[1;34m(a, b)\u001b[0m\n\u001b[0;32m      1\u001b[0m \u001b[39mdef\u001b[39;00m \u001b[39mdivide\u001b[39m(a,b):\n\u001b[1;32m----> 2\u001b[0m     \u001b[39massert\u001b[39;00m b\u001b[39m!=\u001b[39m\u001b[39m0\u001b[39m, \u001b[39m\"\u001b[39m\u001b[39mdiv by zero, enter a number other than zero to b\u001b[39m\u001b[39m\"\u001b[39m\n\u001b[0;32m      3\u001b[0m     \u001b[39mreturn\u001b[39;00m a\u001b[39m/\u001b[39mb\n",
      "\u001b[1;31mAssertionError\u001b[0m: div by zero, enter a number other than zero to b"
     ]
    }
   ],
   "source": [
    "def divide(a,b):\n",
    "    assert b!=0, \"div by zero, enter a number other than zero to b\"\n",
    "    return a/b\n",
    "\n",
    "result =divide(1,0)\n",
    "print(result)"
   ]
  },
  {
   "attachments": {},
   "cell_type": "markdown",
   "metadata": {},
   "source": [
    "Q5. What is the purpose of the with/as argument, and what other statement is it like?"
   ]
  },
  {
   "attachments": {},
   "cell_type": "markdown",
   "metadata": {},
   "source": [
    "\"with\" keyword is used to open certain files or resources and assigns to a variable followed by a \"as\" . and it read or write the files and exits the opening file after \"with\" block. below is an example"
   ]
  },
  {
   "cell_type": "code",
   "execution_count": 15,
   "metadata": {},
   "outputs": [
    {
     "name": "stdout",
     "output_type": "stream",
     "text": [
      "hello from file.txt\n"
     ]
    }
   ],
   "source": [
    "with open(\"hey.txt\" ,'r') as file:\n",
    "    msg=file.read()\n",
    "    print(msg)\n",
    "#hey.txt contains a simple message says \"hello from hey.txt\""
   ]
  }
 ],
 "metadata": {
  "kernelspec": {
   "display_name": "Python 3",
   "language": "python",
   "name": "python3"
  },
  "language_info": {
   "codemirror_mode": {
    "name": "ipython",
    "version": 3
   },
   "file_extension": ".py",
   "mimetype": "text/x-python",
   "name": "python",
   "nbconvert_exporter": "python",
   "pygments_lexer": "ipython3",
   "version": "3.9.10"
  },
  "orig_nbformat": 4
 },
 "nbformat": 4,
 "nbformat_minor": 2
}
