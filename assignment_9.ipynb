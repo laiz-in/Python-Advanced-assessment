{
 "cells": [
  {
   "attachments": {},
   "cell_type": "markdown",
   "metadata": {},
   "source": [
    "Q1. In Python 3.X, what are the names and functions of string object types?"
   ]
  },
  {
   "attachments": {},
   "cell_type": "markdown",
   "metadata": {},
   "source": [
    "# \"str\" is the object used in python to handle strings or textual datas"
   ]
  },
  {
   "cell_type": "code",
   "execution_count": 2,
   "metadata": {},
   "outputs": [
    {
     "data": {
      "text/plain": [
       "str"
      ]
     },
     "execution_count": 2,
     "metadata": {},
     "output_type": "execute_result"
    }
   ],
   "source": [
    "data = \"this is a string\"\n",
    "TypeOfData = type(data)\n",
    "TypeOfData # here it will show the datatype of the above data"
   ]
  },
  {
   "attachments": {},
   "cell_type": "markdown",
   "metadata": {},
   "source": [
    "there are several functions available in python to deal with str datatype , few ofn them are below"
   ]
  },
  {
   "cell_type": "code",
   "execution_count": 11,
   "metadata": {},
   "outputs": [
    {
     "name": "stdout",
     "output_type": "stream",
     "text": [
      "upper case of the string is :  THIS IS A BASIC STRING\n",
      "lower case of the above strin is :  this is a basic string\n",
      "length of the string is (it counts spaces too):  22\n",
      "array of words splited by blank space :  ['this', 'is', 'a', 'basic', 'string']\n"
     ]
    }
   ],
   "source": [
    "data = \"this is a basic string\"\n",
    "\n",
    "#to convert into upper case\n",
    "uppercase = data.upper()\n",
    "print(\"upper case of the string is : \",uppercase)\n",
    "\n",
    "#to convert into lower case\n",
    "lowercase= data.lower()\n",
    "print(\"lower case of the above strin is : \",lowercase)\n",
    "\n",
    "#to find the length of the string\n",
    "length = len(data)\n",
    "print(\"length of the string is (it counts spaces too): \",length)\n",
    "\n",
    "#to strip the string with given value, it returns an array\n",
    "splitted = data.split(\" \")\n",
    "print(\"array of words splited by blank space : \",splitted)\n"
   ]
  },
  {
   "attachments": {},
   "cell_type": "markdown",
   "metadata": {},
   "source": [
    "Q3. In 3.X, how do you put non-ASCII Unicode characters in a string?"
   ]
  },
  {
   "attachments": {},
   "cell_type": "markdown",
   "metadata": {},
   "source": [
    "1. Unicode insert Directly\n",
    "\n",
    "2. insert \\uXXXX or \\UXXXXXXXX (code) instead od f unicode characters\n",
    "\n",
    "allthough python 3.x strings are encoded by utf-8 , so they support these characters and you can directly put them into strings"
   ]
  },
  {
   "cell_type": "code",
   "execution_count": 14,
   "metadata": {},
   "outputs": [
    {
     "data": {
      "text/plain": [
       "'this is a string with sigma letter Σ '"
      ]
     },
     "execution_count": 14,
     "metadata": {},
     "output_type": "execute_result"
    }
   ],
   "source": [
    "data = \"this is a string with sigma letter Σ \"\n",
    "data"
   ]
  },
  {
   "cell_type": "code",
   "execution_count": 15,
   "metadata": {},
   "outputs": [
    {
     "data": {
      "text/plain": [
       "'this is a string with sigma letter Σ'"
      ]
     },
     "execution_count": 15,
     "metadata": {},
     "output_type": "execute_result"
    }
   ],
   "source": [
    "data = \"this is a string with sigma letter \\u03A3\"\n",
    "data"
   ]
  },
  {
   "attachments": {},
   "cell_type": "markdown",
   "metadata": {},
   "source": [
    "Q4. In Python 3.X, what are the key differences between text-mode and binary-mode files?"
   ]
  },
  {
   "attachments": {},
   "cell_type": "markdown",
   "metadata": {},
   "source": [
    "1.  To open a file in binary mode, you need to explicitly specify the mode as 'rb' for reading or 'wb' for writing.\n",
    "2. pyhton default file mode is text-file mode\n",
    "3. Text-mode files supports newline  characters (\\n, \\r, \\r\\n) transparently and present them as a single \\n character when reading or writing\n",
    "4. no encoding or decoding of data is not available in binary -mode files\n",
    "5. text-mode files supports all string opeeration while binarty-mode can not\n",
    "6. no end of line in binary -mode files"
   ]
  },
  {
   "attachments": {},
   "cell_type": "markdown",
   "metadata": {},
   "source": [
    "we can assign the encoding we want when opening the file , example is below"
   ]
  },
  {
   "cell_type": "code",
   "execution_count": 17,
   "metadata": {},
   "outputs": [],
   "source": [
    "with open('file.txt', 'r', encoding='utf-8') as file:\n",
    "    content = file.read()\n",
    "    \n",
    "#  here the encoding = 'utf-8' defines the the encoding we need to open the files with\n"
   ]
  },
  {
   "attachments": {},
   "cell_type": "markdown",
   "metadata": {},
   "source": [
    "Q6. What is the best way to make a Unicode text file in a particular encoding format?"
   ]
  },
  {
   "cell_type": "code",
   "execution_count": 21,
   "metadata": {},
   "outputs": [],
   "source": [
    "with open('file.txt', 'w', encoding='utf-8') as file:\n",
    "    file.write(\"this will be newly encoded string with utf-8 . and will be saved in root folder\")\n",
    "\n",
    "\n",
    "#file will be created with the given encoding \n",
    "#file will be automatically closed becaus ewe use \"with open\""
   ]
  },
  {
   "attachments": {},
   "cell_type": "markdown",
   "metadata": {},
   "source": [
    "Q7. What qualifies ASCII text as a form of Unicode text?"
   ]
  },
  {
   "attachments": {},
   "cell_type": "markdown",
   "metadata": {},
   "source": [
    " * ASCII characters are encoded using 7 bits, allowing for a total of 128 unique characters.\n",
    "\n",
    "* ASCII character set is a subset of the Unicode character set. The ASCII character set includes a total of 128 characters\n",
    "\n",
    "* Any text that only contains ASCII characters can be considered Unicode text"
   ]
  },
  {
   "attachments": {},
   "cell_type": "markdown",
   "metadata": {},
   "source": [
    "Q8. How much of an effect does the change in string types in Python 3.X have on your code?"
   ]
  },
  {
   "attachments": {},
   "cell_type": "markdown",
   "metadata": {},
   "source": [
    "* In python 3.x , the str is defaultly considered as a unicode itself\n",
    "\n",
    "* we need to use the encode() method to convert a Unicode string to a byte string with a specific encoding, and the decode() method to convert a byte string to a Unicode string.\n",
    "\n",
    "* When using librarie and APIs , we need to make sure we are using the coorect object types and all to make the code working\n",
    "\n",
    "* we have to adjust the print() statement and add explicit encoding or conversions as needed"
   ]
  }
 ],
 "metadata": {
  "kernelspec": {
   "display_name": "Python 3",
   "language": "python",
   "name": "python3"
  },
  "language_info": {
   "codemirror_mode": {
    "name": "ipython",
    "version": 3
   },
   "file_extension": ".py",
   "mimetype": "text/x-python",
   "name": "python",
   "nbconvert_exporter": "python",
   "pygments_lexer": "ipython3",
   "version": "3.9.10"
  },
  "orig_nbformat": 4
 },
 "nbformat": 4,
 "nbformat_minor": 2
}
