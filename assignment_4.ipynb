{
 "cells": [
  {
   "cell_type": "markdown",
   "id": "167a9096",
   "metadata": {},
   "source": [
    "1. What exactly is []?\n",
    "\n",
    " [] indicates an empty list in python eg :  list=[]\n",
    " we can append items to the list\n",
    " "
   ]
  },
  {
   "cell_type": "code",
   "execution_count": 2,
   "id": "09c790d7",
   "metadata": {},
   "outputs": [
    {
     "name": "stdout",
     "output_type": "stream",
     "text": [
      "[2, 4, 'hello', 8, 10]\n"
     ]
    }
   ],
   "source": [
    "#2. In a list of values stored in a variable called spam, how would you assign the value \"hello\" as the\n",
    "#   third value? (Assume [2, 4, 6, 8, 10] are in spam.)\n",
    "    \n",
    "spam = [2,4,6,8,10]\n",
    "spam[2] =\"hello\"\n",
    "print(spam)\n",
    "    \n",
    "    \n",
    "\n",
    "   "
   ]
  },
  {
   "cell_type": "code",
   "execution_count": 4,
   "id": "5ea62053",
   "metadata": {},
   "outputs": [
    {
     "name": "stdout",
     "output_type": "stream",
     "text": [
      "d\n"
     ]
    }
   ],
   "source": [
    "#3. What is the value of spam[int(int('3' * 2) / 11)]?\n",
    "\n",
    "# int('3'*2/11) returns 33/11 that is 3.0, its integer value is 3\n",
    "# so this expression becomes spam[3], prints the 4th value in the list spam  \n",
    "\n",
    "spam = ['a','b','c','d']\n",
    "print(spam[3])\n",
    "\n",
    "# returns 'd'\n",
    "                                     "
   ]
  },
  {
   "cell_type": "code",
   "execution_count": 5,
   "id": "a63be863",
   "metadata": {},
   "outputs": [
    {
     "name": "stdout",
     "output_type": "stream",
     "text": [
      "d\n"
     ]
    }
   ],
   "source": [
    "# 4. What is the value of spam[-1]?\n",
    "\n",
    "#  [-1] is the last index of the list\n",
    "spam = ['a','b','c','d']\n",
    "print(spam[-1])\n",
    "\n",
    "#returns 'd'\n"
   ]
  },
  {
   "cell_type": "code",
   "execution_count": 6,
   "id": "3a12fd5c",
   "metadata": {},
   "outputs": [
    {
     "name": "stdout",
     "output_type": "stream",
     "text": [
      "['a', 'b']\n"
     ]
    }
   ],
   "source": [
    "#  5. What is the value of spam[:2]?\n",
    "\n",
    "\n",
    "spam = ['a','b','c','d']\n",
    "print(spam[:2])\n",
    "\n",
    "#[:2] prints first 2 values in lists . does not include the index 2 . prints only 0 and 1\n",
    "\n"
   ]
  },
  {
   "cell_type": "code",
   "execution_count": 8,
   "id": "4a51317f",
   "metadata": {},
   "outputs": [
    {
     "name": "stdout",
     "output_type": "stream",
     "text": [
      "1\n"
     ]
    }
   ],
   "source": [
    "#  6. What is the value of bacon.index('cat')?\n",
    "\n",
    "bacon = [3.14,'cat',11,'cat',True]\n",
    "print(bacon.index('cat'))\n",
    "      \n",
    "# index() returns the index of the value we are giving. if it repeats in the list then it will return the 1st occurrence\n"
   ]
  },
  {
   "cell_type": "code",
   "execution_count": 10,
   "id": "ae78f5b3",
   "metadata": {},
   "outputs": [
    {
     "name": "stdout",
     "output_type": "stream",
     "text": [
      "[3.14, 'cat', 11, 'cat', True, 99]\n"
     ]
    }
   ],
   "source": [
    "# 7. How does bacon.append(99) change the look of the list value in bacon?\n",
    "\n",
    "bacon = [3.14,'cat',11,'cat',True]\n",
    "\n",
    "bacon.append(99)\n",
    "print(bacon)\n",
    "\n",
    "# append() function adds the value to the end of the list, here 99 will be added as the last element of the list"
   ]
  },
  {
   "cell_type": "code",
   "execution_count": 12,
   "id": "c37bd140",
   "metadata": {},
   "outputs": [
    {
     "name": "stdout",
     "output_type": "stream",
     "text": [
      "[3.14, 11, 'cat', True]\n"
     ]
    }
   ],
   "source": [
    "# 8. How does bacon.remove('cat') change the look of the list in bacon?\n",
    "\n",
    "bacon = [3.14,'cat',11,'cat',True]\n",
    "bacon.remove('cat')\n",
    "\n",
    "# remove() function removes the element from the list , if the element is repeating, then it will removes from the 1st index\n",
    "print(bacon)\n"
   ]
  },
  {
   "cell_type": "code",
   "execution_count": 18,
   "id": "411d03e4",
   "metadata": {},
   "outputs": [
    {
     "name": "stdout",
     "output_type": "stream",
     "text": [
      "concatenated string is  [1, 2, 2, 3, 5, 9, 'j', 8]\n",
      "replicated the list2 using copy(), list4 =  [5, 9, 'j', 8]\n"
     ]
    }
   ],
   "source": [
    "#9. What are the list concatenation and list replication operators?\n",
    "\n",
    "#  list concatenation adds the two lists . we can use the '+' operator to add two lists together\n",
    "#  or we can use append() in for loop also \n",
    "\n",
    "list1 = [1,2,2,3]\n",
    "list2 = [5,9,'j',8]\n",
    "list3 = list1 + list2\n",
    "\n",
    "#concatenated using + operator\n",
    "\n",
    "print(\"concatenated string is \",list3)\n",
    "\n",
    "#we can use the copy() to replicate a list\n",
    "list4 = list2.copy()\n",
    "print(\"replicated the list2 using copy(), list4 = \",list4)\n",
    "\n"
   ]
  },
  {
   "cell_type": "markdown",
   "id": "bb307cf5",
   "metadata": {},
   "source": [
    "10. What is difference between the list methods append() and insert()?\n",
    "\n",
    " append() always adds the values to the end of the list while insert() gives an option\n",
    " to insert the value in a desired index \n",
    " \n",
    " syntax of insert:\n",
    " \n",
    "  listname.insert(index, value_to_be_added)\n",
    "  \n",
    "\n",
    " \n",
    " "
   ]
  },
  {
   "cell_type": "code",
   "execution_count": 20,
   "id": "95455a64",
   "metadata": {},
   "outputs": [
    {
     "name": "stdout",
     "output_type": "stream",
     "text": [
      "[1, 2, 3, 6]\n"
     ]
    }
   ],
   "source": [
    "# 11. What are the two methods for removing items from a list?\n",
    "\n",
    "\n",
    "# remove() and pop() funtions allows us to remove items from the list\n",
    "# remove() allows to pass the value which we want to be removed and it will be removed from its first index\n",
    "# pop() allows us to pass the index which we want to remove the item from\n",
    "\n",
    "list = [1,2,3,4,5,6]\n",
    "\n",
    "#lets remove the item 5\n",
    "list.remove(5)\n",
    "\n",
    "#lets remove the item present at the 3rd index (4th value)\n",
    "list.pop(3)\n",
    "\n",
    "print(list)\n",
    "\n",
    "#after removing 5 ,the list will be [1,2,3,4,6]. 3rd index value will be 4. pop(3) will remove 4, so the output list should be\n",
    "# [1,2,3,6]\n",
    "\n"
   ]
  },
  {
   "cell_type": "markdown",
   "id": "baca9975",
   "metadata": {},
   "source": [
    "12. Describe how list values and string values are identical\n",
    "\n",
    "  both list and string are sequences and iterable.lists are combination of values of different data types\n",
    "  but the string is the combination of the characters only. strings are immutable and lists are mutable\n",
    "  "
   ]
  },
  {
   "cell_type": "markdown",
   "id": "739873c0",
   "metadata": {},
   "source": [
    "13. What is the difference between tuples and lists?\n",
    "\n",
    "   the main difference between a list and tuple is , lists are mutable and tuples are immutable\n",
    "   items from a list can be modified as our wish but tuples stays unchanged\n",
    "   coders use tuples to assign values which are not going to change\n",
    "   \n",
    "   tuple can be written between () and lists are written between []"
   ]
  },
  {
   "cell_type": "code",
   "execution_count": 27,
   "id": "3d343df7",
   "metadata": {},
   "outputs": [
    {
     "name": "stdout",
     "output_type": "stream",
     "text": [
      "<class 'tuple'>\n"
     ]
    }
   ],
   "source": [
    "# 14. How do you type a tuple value that only contains the integer 42?\n",
    "\n",
    "mytuple = (42,)\n",
    "\n",
    "print(type(mytuple))\n",
    "    \n"
   ]
  },
  {
   "cell_type": "markdown",
   "id": "0c27f839",
   "metadata": {},
   "source": [
    "15. How do you get a list value's tuple form? How do you get a tuple value's list form?\n",
    "\n",
    " to get list value of tuple , we can use list(tuplename)\n",
    " \n",
    " to get tuple value of list , we can use tuple(listname)\n",
    " \n",
    " in both cases data set will be converted\n"
   ]
  },
  {
   "cell_type": "markdown",
   "id": "41fac58c",
   "metadata": {},
   "source": [
    "16. Variables that \"contain\" list values are not necessarily lists themselves. Instead, what do they contain?\n",
    "\n",
    "\n",
    "     it also contains the address of values .it is useful when applying copy() functions\n",
    "\n",
    "\n"
   ]
  },
  {
   "cell_type": "markdown",
   "id": "76a6f7f5",
   "metadata": {},
   "source": [
    "17. How do you distinguish between copy.copy() and copy.deepcopy()?\n",
    "\n",
    "    copy() function makes a copy of the objects without creating a new reference address. so while \n",
    "    making some changes to copied data will also affect the original data\n",
    "    \n",
    "    \n",
    "    meanwhile deepcopy() function makes the copy of objects with new addresses . it means while doing something with the copied     data will not affect the original data\n",
    "    \n"
   ]
  },
  {
   "cell_type": "code",
   "execution_count": null,
   "id": "38338718",
   "metadata": {},
   "outputs": [],
   "source": []
  }
 ],
 "metadata": {
  "kernelspec": {
   "display_name": "Python 3 (ipykernel)",
   "language": "python",
   "name": "python3"
  },
  "language_info": {
   "codemirror_mode": {
    "name": "ipython",
    "version": 3
   },
   "file_extension": ".py",
   "mimetype": "text/x-python",
   "name": "python",
   "nbconvert_exporter": "python",
   "pygments_lexer": "ipython3",
   "version": "3.9.12"
  }
 },
 "nbformat": 4,
 "nbformat_minor": 5
}
