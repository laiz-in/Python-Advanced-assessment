{
 "cells": [
  {
   "attachments": {},
   "cell_type": "markdown",
   "metadata": {},
   "source": [
    "Q1. What is the difference between __getattr__ and __getattribute__?\n"
   ]
  },
  {
   "attachments": {},
   "cell_type": "markdown",
   "metadata": {},
   "source": [
    "* __ getattr__\n",
    "\n",
    "used when the requested attribute is not found using the usual lookup mechanism.\n",
    "\n",
    "used when an attribute is not found in the usual way, by searching the instance's dictionary and class hierarchy.\n",
    "\n",
    "Its an optional , we can use it only if it is neccesary\n",
    "\n",
    "used to implement dynamic attribute access"
   ]
  },
  {
   "attachments": {},
   "cell_type": "markdown",
   "metadata": {},
   "source": [
    "* __ getattribute__\n",
    "\n",
    "used for every attribute acces, even if the attribute does not exist\n",
    "\n",
    "its a mandatory method , we can override\n",
    "\n"
   ]
  },
  {
   "attachments": {},
   "cell_type": "markdown",
   "metadata": {},
   "source": [
    "Q2. What is the difference between properties and descriptors?\n"
   ]
  },
  {
   "attachments": {},
   "cell_type": "markdown",
   "metadata": {},
   "source": [
    "Properties and descriptors are used to initialize specil behaviors for attribute access\n",
    "\n",
    "Descriptors work by defining one or more of the following methods: __ get__, __ set__, and __ delete__.\n"
   ]
  },
  {
   "cell_type": "code",
   "execution_count": 1,
   "metadata": {},
   "outputs": [
    {
     "name": "stdout",
     "output_type": "stream",
     "text": [
      "accessing the attribute to get the value\n",
      "42\n"
     ]
    }
   ],
   "source": [
    "class Verbose_attribute():\n",
    "    def __get__(self, obj, type=None) -> object:\n",
    "        print(\"accessing the attribute to get the value\")\n",
    "        return 42\n",
    "    def __set__(self, obj, value) -> None:\n",
    "        print(\"accessing the attribute to set the value\")\n",
    "        raise AttributeError(\"Cannot change the value\")\n",
    "\n",
    "class Foo():\n",
    "    attribute1 = Verbose_attribute()\n",
    "\n",
    "my_foo_object = Foo()\n",
    "x = my_foo_object.attribute1\n",
    "print(x)"
   ]
  },
  {
   "attachments": {},
   "cell_type": "markdown",
   "metadata": {},
   "source": [
    "Properties are defined within a class using the @property decorator and allow you to customize the behavior of getting, setting, and deleting an attribute.\n",
    "\n",
    "Properties are commonly used to provide controlled access to class attributes, perform validation, enforce certain behavior, or compute attribute values dynamically.\n"
   ]
  },
  {
   "cell_type": "code",
   "execution_count": 2,
   "metadata": {},
   "outputs": [
    {
     "name": "stdout",
     "output_type": "stream",
     "text": [
      "accessing the attribute to get the value\n",
      "42\n"
     ]
    }
   ],
   "source": [
    "class Foo():\n",
    "    @property\n",
    "    def attribute1(self) -> object:\n",
    "        print(\"accessing the attribute to get the value\")\n",
    "        return 42\n",
    "\n",
    "    @attribute1.setter\n",
    "    def attribute1(self, value) -> None:\n",
    "        print(\"accessing the attribute to set the value\")\n",
    "        raise AttributeError(\"Cannot change the value\")\n",
    "\n",
    "my_foo_object = Foo()\n",
    "x = my_foo_object.attribute1\n",
    "print(x)"
   ]
  },
  {
   "attachments": {},
   "cell_type": "markdown",
   "metadata": {},
   "source": [
    "Q3. What are the key differences in functionality between __ getattr__ and __ getattribute__, as well as properties and descriptors?"
   ]
  },
  {
   "attachments": {},
   "cell_type": "markdown",
   "metadata": {},
   "source": [
    "* __ getattr__ is called when the requested attribute is not found using the usual lookup mechanism, while __ getattribute__ is called for every attribute access, regardless of whether the attribute exists or not.\n",
    "\n",
    "* __ getattr__ is an optional method that provides a fallback for missing attributes, while __ getattribute__ is a mandatory method that can be overridden to customize attribute access behavior\n",
    "\n",
    "* __ getattr__ and __ getattribute__ differ in terms of when they are called and their purpose\n",
    "\n",
    "* Properties are defined using the @property decorator or as methods with special names (getter, setter, deleter), while descriptors are defined by implementing the descriptor protocol (__ get__, __ set__, __ delete__ methods)."
   ]
  },
  {
   "cell_type": "code",
   "execution_count": 6,
   "metadata": {},
   "outputs": [
    {
     "name": "stdout",
     "output_type": "stream",
     "text": [
      "__getattribute__ called for attribute: some_attribute\n",
      "__getattr__ called for attribute: some_attribute\n",
      "42\n",
      "__getattribute__ called for attribute: another_attribute\n",
      "__getattr__ called for attribute: another_attribute\n",
      "42\n",
      "__getattribute__ called for attribute: __dict__\n",
      "{}\n",
      "Getting width\n",
      "10\n",
      "Setting width\n",
      "Getting width\n",
      "15\n",
      "Descriptor __get__ called\n",
      "Descriptor __set__ called\n",
      "Getting data\n",
      "Initial value\n",
      "Setting data\n",
      "Getting data\n",
      "value after updation\n"
     ]
    }
   ],
   "source": [
    "class DynamicAttributes:\n",
    "    def __getattr__(self, name):\n",
    "        print(f\"__getattr__ called for attribute: {name}\")\n",
    "        return 42  # Return a default value for missing attributes\n",
    "\n",
    "    def __getattribute__(self, name):\n",
    "        print(f\"__getattribute__ called for attribute: {name}\")\n",
    "        return object.__getattribute__(self, name)\n",
    "\n",
    "class Rectangle:\n",
    "    def __init__(self, width, height):\n",
    "        self._width = width\n",
    "        self._height = height\n",
    "    #propert is used here\n",
    "    @property\n",
    "    def width(self):\n",
    "        print(\"Getting width\")\n",
    "        return self._width\n",
    "\n",
    "    @width.setter\n",
    "    def width(self, value):\n",
    "        print(\"Setting width\")\n",
    "        self._width = value\n",
    "\n",
    "    @property\n",
    "    def height(self):\n",
    "        print(\"Getting height\")\n",
    "        return self._height\n",
    "\n",
    "    @height.setter\n",
    "    def height(self, value):\n",
    "        print(\"Setting height\")\n",
    "        self._height = value\n",
    "\n",
    "class Descriptor:\n",
    "    def __get__(self, instance, owner):\n",
    "        print(\"Descriptor __get__ called\")\n",
    "        return instance\n",
    "\n",
    "    def __set__(self, instance, value):\n",
    "        print(\"Descriptor __set__ called\")\n",
    "        # Do something with the value if needed\n",
    "\n",
    "class ExampleClass:\n",
    "    descriptor = Descriptor()\n",
    "\n",
    "    def __init__(self):\n",
    "        self._data = \"Initial value\"\n",
    "\n",
    "    @property\n",
    "    def data(self):\n",
    "        print(\"Getting data\")\n",
    "        return self._data\n",
    "\n",
    "    @data.setter\n",
    "    def data(self, value):\n",
    "        print(\"Setting data\")\n",
    "        self._data = value\n",
    "\n",
    "def main():\n",
    "    # Testing __getattr__ and __getattribute__\n",
    "    obj = DynamicAttributes()\n",
    "    print(obj.some_attribute) \n",
    "    #Calls __getattr__ for missing attribute\n",
    "    print(obj.another_attribute)  \n",
    "    #Calls __getattr__ for missing attribute\n",
    "\n",
    "    print(obj.__dict__) \n",
    "    #Calls __getattribute__ for existing attribute\n",
    "\n",
    "    #Testing properties\n",
    "    rect = Rectangle(10, 20)\n",
    "    print(rect.width)  # Calls getter method\n",
    "    rect.width = 15  \n",
    "    #Calls setter method\n",
    "    print(rect.width)  \n",
    "    #Calls getter method\n",
    "\n",
    "    #Testing descriptors\n",
    "    example = ExampleClass()\n",
    "    example.descriptor \n",
    "     #Calls descriptor __get__\n",
    "    example.descriptor = \"New value\"  \n",
    "    #Calls descriptor __set__\n",
    "\n",
    "    #Testing property and descriptor combination\n",
    "    print(example.data)  \n",
    "    #Calls getter method\n",
    "    example.data = \"value after updation\"  \n",
    "    #Calls setter method\n",
    "    print(example.data)  \n",
    "    #Calls getter method\n",
    "\n",
    "if __name__ == \"__main__\":\n",
    "    main()\n"
   ]
  }
 ],
 "metadata": {
  "kernelspec": {
   "display_name": "Python 3",
   "language": "python",
   "name": "python3"
  },
  "language_info": {
   "codemirror_mode": {
    "name": "ipython",
    "version": 3
   },
   "file_extension": ".py",
   "mimetype": "text/x-python",
   "name": "python",
   "nbconvert_exporter": "python",
   "pygments_lexer": "ipython3",
   "version": "3.9.10"
  },
  "orig_nbformat": 4
 },
 "nbformat": 4,
 "nbformat_minor": 2
}
