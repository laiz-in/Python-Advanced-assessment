{
 "cells": [
  {
   "attachments": {},
   "cell_type": "markdown",
   "metadata": {},
   "source": [
    "Q1. Describe three applications for exception processing.\n"
   ]
  },
  {
   "attachments": {},
   "cell_type": "markdown",
   "metadata": {},
   "source": [
    "1. error handling is the most useful feature of exception processing . with a try catch block we can handle the error with the complete details of the error with line and number and all details"
   ]
  },
  {
   "cell_type": "code",
   "execution_count": 2,
   "metadata": {},
   "outputs": [
    {
     "name": "stdout",
     "output_type": "stream",
     "text": [
      "error is  division by zero\n"
     ]
    }
   ],
   "source": [
    "try:\n",
    "    a= 1/0\n",
    "    print(a)\n",
    "except Exception as e:\n",
    "    print(\"error is \",e)\n",
    "# here we are trying to divide 1/0 which is mathematically not possible and the program doesnt throw error because the code is in try block"
   ]
  },
  {
   "attachments": {},
   "cell_type": "markdown",
   "metadata": {},
   "source": [
    "2. database management\n",
    " \n",
    "once we have entered into our database and we have faced some error afterwards , the program will throw an error and the database will be keep opened , but using exception handling we can close the database if the program did not work as we expect"
   ]
  },
  {
   "cell_type": "code",
   "execution_count": 4,
   "metadata": {},
   "outputs": [
    {
     "name": "stdout",
     "output_type": "stream",
     "text": [
      "error occured in code is :  division by zero\n",
      "database closed\n"
     ]
    }
   ],
   "source": [
    "import sqlite3\n",
    "try:\n",
    "    #code block to enter database\n",
    "    conn = sqlite3.connect('sample.db')\n",
    "    #process with database which may cause some error\n",
    "    a=1/0\n",
    "except Exception as e:\n",
    "    print (\"error occured in code is : \",e)\n",
    "finally:\n",
    "    conn.close()\n",
    "    print(\"database closed\")\n",
    "\n",
    "#here we are closing the database if any error occured in our database\n"
   ]
  },
  {
   "attachments": {},
   "cell_type": "markdown",
   "metadata": {},
   "source": [
    "3. debugging is another application of exception , we can always log our enformations to a log file using log functions in python , and we need to use the try exception process to do the same"
   ]
  },
  {
   "attachments": {},
   "cell_type": "markdown",
   "metadata": {},
   "source": [
    "Q2. What happens if you don't do something extra to treat an exception?\n"
   ]
  },
  {
   "attachments": {},
   "cell_type": "markdown",
   "metadata": {},
   "source": [
    "it will lead the program to crash , or run infinite loops or even cause financial losses if we are using external paid services in our program like databases and all\n",
    "\n",
    "it will be always good to put an exception block in our program"
   ]
  },
  {
   "attachments": {},
   "cell_type": "markdown",
   "metadata": {},
   "source": [
    "Q3. What are your options for recovering from an exception in your script?\n"
   ]
  },
  {
   "attachments": {},
   "cell_type": "markdown",
   "metadata": {},
   "source": [
    "it depends on the how severe our error is \n",
    "\n",
    "* we can ignore the exception and carry on\n",
    "* we can terminate the program right there if the error can not be avoided using some termination function\n",
    "* we can try to initiate some other functions and retry the program to exceute"
   ]
  },
  {
   "attachments": {},
   "cell_type": "markdown",
   "metadata": {},
   "source": [
    "Q4. Describe two methods for triggering exceptions in your script.\n",
    "\n"
   ]
  },
  {
   "attachments": {},
   "cell_type": "markdown",
   "metadata": {},
   "source": [
    "1.assertion"
   ]
  },
  {
   "cell_type": "code",
   "execution_count": 7,
   "metadata": {},
   "outputs": [],
   "source": [
    "#assertion\n",
    "x = 5\n",
    "y = 5\n",
    "assert x == y, \"x and y must be equal\"\n",
    "#this will raise an assertion error"
   ]
  },
  {
   "attachments": {},
   "cell_type": "markdown",
   "metadata": {},
   "source": [
    "2. raise"
   ]
  },
  {
   "cell_type": "code",
   "execution_count": 11,
   "metadata": {},
   "outputs": [
    {
     "ename": "TypeError",
     "evalue": "x should be an integer. so please...",
     "output_type": "error",
     "traceback": [
      "\u001b[1;31m---------------------------------------------------------------------------\u001b[0m",
      "\u001b[1;31mTypeError\u001b[0m                                 Traceback (most recent call last)",
      "Cell \u001b[1;32mIn[11], line 3\u001b[0m\n\u001b[0;32m      1\u001b[0m x \u001b[39m=\u001b[39m \u001b[39m\"\u001b[39m\u001b[39mfkjgrj\u001b[39m\u001b[39m\"\u001b[39m\n\u001b[0;32m      2\u001b[0m \u001b[39mif\u001b[39;00m \u001b[39mnot\u001b[39;00m \u001b[39misinstance\u001b[39m(x, \u001b[39mint\u001b[39m):\n\u001b[1;32m----> 3\u001b[0m     \u001b[39mraise\u001b[39;00m \u001b[39mTypeError\u001b[39;00m(\u001b[39m\"\u001b[39m\u001b[39mx should be an integer. so please...\u001b[39m\u001b[39m\"\u001b[39m)\n\u001b[0;32m      4\u001b[0m \u001b[39m# here the code will raise a type error with the error message we provide\u001b[39;00m\n",
      "\u001b[1;31mTypeError\u001b[0m: x should be an integer. so please..."
     ]
    }
   ],
   "source": [
    "x = \"fkjgrj\"\n",
    "if not isinstance(x, int):\n",
    "    raise TypeError(\"x should be an integer. so please...\")\n",
    "# here the code will raise a type error with the error message we provide"
   ]
  },
  {
   "attachments": {},
   "cell_type": "markdown",
   "metadata": {},
   "source": [
    "Q5. Identify two methods for specifying actions to be executed at termination time, regardless of whether or not an exception exists."
   ]
  },
  {
   "attachments": {},
   "cell_type": "markdown",
   "metadata": {},
   "source": [
    "1. try-finally block:\n",
    "\n",
    "try block will run the code and jumps to except block after causing any error . and then finally block will be resposible for the fianl handling of exception"
   ]
  },
  {
   "cell_type": "code",
   "execution_count": 3,
   "metadata": {},
   "outputs": [
    {
     "name": "stdout",
     "output_type": "stream",
     "text": [
      "division by zero\n",
      "program closed\n"
     ]
    }
   ],
   "source": [
    "try:\n",
    "    a=1/0\n",
    "    print(a)\n",
    "except Exception as e:\n",
    "    print(e)\n",
    "finally:\n",
    "    print(\"program closed\")\n",
    "#this final block will execute even if there were no errors in code block"
   ]
  },
  {
   "attachments": {},
   "cell_type": "markdown",
   "metadata": {},
   "source": [
    "2. atexit method\n",
    "\n",
    "this will allow us to register some other functions program cause some errors"
   ]
  },
  {
   "cell_type": "code",
   "execution_count": 12,
   "metadata": {},
   "outputs": [
    {
     "name": "stdout",
     "output_type": "stream",
     "text": [
      "Error: division by zero\n"
     ]
    }
   ],
   "source": [
    "import atexit\n",
    "\n",
    "def marks():\n",
    "    marks=54\n",
    "def report():\n",
    "    mark=54\n",
    "    name=mark/0\n",
    "    print(marks)\n",
    "\n",
    "if __name__ == '__main__':\n",
    "    try:\n",
    "        report()\n",
    "    except Exception as e:\n",
    "        print(f'Error: {e}')\n",
    "    finally:\n",
    "        atexit.register(marks)\n",
    "        # in this case, the use case of the atexit module is to ensure that the marks() function is always \n",
    "        # executed when the program terminates, regardless of whether or not an exception occurs.\n",
    "        "
   ]
  }
 ],
 "metadata": {
  "kernelspec": {
   "display_name": "Python 3",
   "language": "python",
   "name": "python3"
  },
  "language_info": {
   "codemirror_mode": {
    "name": "ipython",
    "version": 3
   },
   "file_extension": ".py",
   "mimetype": "text/x-python",
   "name": "python",
   "nbconvert_exporter": "python",
   "pygments_lexer": "ipython3",
   "version": "3.9.10"
  },
  "orig_nbformat": 4
 },
 "nbformat": 4,
 "nbformat_minor": 2
}
