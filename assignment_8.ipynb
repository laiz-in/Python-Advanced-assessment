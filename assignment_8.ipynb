{
 "cells": [
  {
   "attachments": {},
   "cell_type": "markdown",
   "metadata": {},
   "source": [
    "Q1. What are the two latest user-defined exception constraints in Python 3.X?"
   ]
  },
  {
   "attachments": {},
   "cell_type": "markdown",
   "metadata": {},
   "source": [
    "* standard class bases exceptions"
   ]
  },
  {
   "cell_type": "code",
   "execution_count": 21,
   "metadata": {},
   "outputs": [
    {
     "name": "stdout",
     "output_type": "stream",
     "text": [
      "Error: Cannot divide by zero\n"
     ]
    }
   ],
   "source": [
    "class CustomException(Exception):\n",
    "    pass\n",
    "\n",
    "def divide(a,b):\n",
    "    if b == 0:\n",
    "        raise CustomException(\"Cannot divide by zero\")\n",
    "    return a/b\n",
    "\n",
    "try:\n",
    "    print(divide(1,0))\n",
    "except CustomException as e:\n",
    "    print(\"Error:\", e)\n"
   ]
  },
  {
   "attachments": {},
   "cell_type": "markdown",
   "metadata": {},
   "source": [
    "* inherited class exceptions"
   ]
  },
  {
   "cell_type": "code",
   "execution_count": 22,
   "metadata": {},
   "outputs": [
    {
     "name": "stdout",
     "output_type": "stream",
     "text": [
      "Error: Cannot divide by zero\n"
     ]
    }
   ],
   "source": [
    "class CustomException(Exception):\n",
    "    pass\n",
    "\n",
    "class derivedCustomException(CustomException):\n",
    "    pass\n",
    "\n",
    "def divide(a,b):\n",
    "    if b == 0:\n",
    "        raise derivedCustomException(\"Cannot divide by zero\")\n",
    "    return a/b\n",
    "\n",
    "try:\n",
    "    print(divide(1,0))\n",
    "except derivedCustomException as e:\n",
    "    print(\"Error:\", e)\n"
   ]
  },
  {
   "attachments": {},
   "cell_type": "markdown",
   "metadata": {},
   "source": [
    "Q2. How are class-based exceptions that have been raised matched to handlers?"
   ]
  },
  {
   "attachments": {},
   "cell_type": "markdown",
   "metadata": {},
   "source": [
    "The interpreter finds an exception handler that matches the type of the exception. If interpreter vaoul not find one,, the interpreter looks for a handler that matches one of the exception's base classes. This keeps on going recursively up the exception hierarchy until a matching handler is found or until there are no more base classes to check."
   ]
  },
  {
   "attachments": {},
   "cell_type": "markdown",
   "metadata": {},
   "source": [
    "If no matching handler is found, the interpreter propagates the exception up to the next level of the call stack, where the same process is repeated until a matching handler is found or the exception reaches the top-level of the call stack and terminates the program."
   ]
  },
  {
   "attachments": {},
   "cell_type": "markdown",
   "metadata": {},
   "source": [
    "Q3. Describe two methods for attaching context information to exception artefacts."
   ]
  },
  {
   "attachments": {},
   "cell_type": "markdown",
   "metadata": {},
   "source": [
    "1. passing error message as an argument"
   ]
  },
  {
   "cell_type": "code",
   "execution_count": 7,
   "metadata": {},
   "outputs": [
    {
     "name": "stdout",
     "output_type": "stream",
     "text": [
      "Invalid value for parameter 'x'\n",
      "Parameter name: x\n",
      "Parameter value: 42\n",
      "Parameter name: y\n",
      "Parameter value: hello\n"
     ]
    }
   ],
   "source": [
    "x = 42\n",
    "y = \"hello\"\n",
    "\n",
    "try:\n",
    "    raise ValueError(\"Invalid value for parameter 'x'\", \"x\", x, \"y\", y)\n",
    "except ValueError as e:\n",
    "    print(e.args[0])\n",
    "    for i in range(1, len(e.args), 2):\n",
    "        print(\"Parameter name:\", e.args[i])\n",
    "        print(\"Parameter value:\", e.args[i+1])\n"
   ]
  },
  {
   "attachments": {},
   "cell_type": "markdown",
   "metadata": {},
   "source": [
    "2.Using custom exception classes: You can also create custom exception classes that include additional context information as instance variables"
   ]
  },
  {
   "cell_type": "code",
   "execution_count": 6,
   "metadata": {},
   "outputs": [
    {
     "name": "stdout",
     "output_type": "stream",
     "text": [
      "Something went wrong\n",
      "Context: {'x': 42, 'y': 'hello'}\n"
     ]
    }
   ],
   "source": [
    "class CustomException(Exception):\n",
    "    def __init__(self, message, context):\n",
    "        super().__init__(message)\n",
    "        self.context = context\n",
    "\n",
    "try:\n",
    "    raise CustomException(\"Something went wrong\", {\"x\": x, \"y\": y})\n",
    "except CustomException as e:\n",
    "    print(e)\n",
    "    print(\"Context:\", e.context)\n"
   ]
  },
  {
   "attachments": {},
   "cell_type": "markdown",
   "metadata": {},
   "source": [
    "Q4. Describe two methods for specifying the text of an exception object's error message."
   ]
  },
  {
   "attachments": {},
   "cell_type": "markdown",
   "metadata": {},
   "source": [
    "1. Pass the exception argument as string"
   ]
  },
  {
   "cell_type": "code",
   "execution_count": 12,
   "metadata": {},
   "outputs": [
    {
     "ename": "ZeroDivisionError",
     "evalue": "its a zero division error",
     "output_type": "error",
     "traceback": [
      "\u001b[1;31m---------------------------------------------------------------------------\u001b[0m",
      "\u001b[1;31mZeroDivisionError\u001b[0m                         Traceback (most recent call last)",
      "Cell \u001b[1;32mIn[12], line 6\u001b[0m\n\u001b[0;32m      5\u001b[0m \u001b[39mtry\u001b[39;00m:\n\u001b[1;32m----> 6\u001b[0m     \u001b[39mprint\u001b[39m(divide(\u001b[39m1\u001b[39;49m,\u001b[39m0\u001b[39;49m))\n\u001b[0;32m      7\u001b[0m \u001b[39mexcept\u001b[39;00m \u001b[39mZeroDivisionError\u001b[39;00m:\n",
      "Cell \u001b[1;32mIn[12], line 2\u001b[0m, in \u001b[0;36mdivide\u001b[1;34m(a, b)\u001b[0m\n\u001b[0;32m      1\u001b[0m \u001b[39mdef\u001b[39;00m \u001b[39mdivide\u001b[39m(a,b):\n\u001b[1;32m----> 2\u001b[0m     c\u001b[39m=\u001b[39ma\u001b[39m/\u001b[39;49mb\n\u001b[0;32m      3\u001b[0m     \u001b[39mreturn\u001b[39;00m c\n",
      "\u001b[1;31mZeroDivisionError\u001b[0m: division by zero",
      "\nDuring handling of the above exception, another exception occurred:\n",
      "\u001b[1;31mZeroDivisionError\u001b[0m                         Traceback (most recent call last)",
      "Cell \u001b[1;32mIn[12], line 8\u001b[0m\n\u001b[0;32m      6\u001b[0m     \u001b[39mprint\u001b[39m(divide(\u001b[39m1\u001b[39m,\u001b[39m0\u001b[39m))\n\u001b[0;32m      7\u001b[0m \u001b[39mexcept\u001b[39;00m \u001b[39mZeroDivisionError\u001b[39;00m:\n\u001b[1;32m----> 8\u001b[0m     \u001b[39mraise\u001b[39;00m \u001b[39mZeroDivisionError\u001b[39;00m(\u001b[39m\"\u001b[39m\u001b[39mits a zero division error\u001b[39m\u001b[39m\"\u001b[39m)\n",
      "\u001b[1;31mZeroDivisionError\u001b[0m: its a zero division error"
     ]
    }
   ],
   "source": [
    "def divide(a,b):\n",
    "    c=a/b\n",
    "    return c\n",
    "\n",
    "try:\n",
    "    print(divide(1,0))\n",
    "except ZeroDivisionError:\n",
    "    raise ZeroDivisionError(\"its a zero division error\")"
   ]
  },
  {
   "attachments": {},
   "cell_type": "markdown",
   "metadata": {},
   "source": [
    "2. Defining custom class"
   ]
  },
  {
   "cell_type": "code",
   "execution_count": 19,
   "metadata": {},
   "outputs": [],
   "source": [
    "import sys\n",
    "def error_message_detail(error,error_detail:sys):\n",
    "    _,_,exc_tb=error_detail.exc_info()\n",
    "    file_name=exc_tb.tb_frame.f_code.co_filename\n",
    "    error_message=\"Error occured in python script name [{0}] \\nline number [{1}] \\nerror message[{2}]\".format(\n",
    "     file_name,exc_tb.tb_lineno,str(error))\n",
    "\n",
    "    return error_message\n",
    "\n",
    "    \n",
    "\n",
    "class CustomException(Exception):\n",
    "    def __init__(self,error_message,error_detail:sys):\n",
    "        super().__init__(error_message)\n",
    "        self.error_message=error_message_detail(error_message,error_detail=error_detail)\n",
    "    \n",
    "    def __str__(self):\n",
    "        return self.error_message"
   ]
  },
  {
   "cell_type": "code",
   "execution_count": 20,
   "metadata": {},
   "outputs": [
    {
     "ename": "CustomException",
     "evalue": "Error occured in python script name [C:\\Users\\Hp\\AppData\\Local\\Temp\\ipykernel_12480\\4132250833.py] \nline number [2] \nerror message[name 'b' is not defined]",
     "output_type": "error",
     "traceback": [
      "\u001b[1;31m---------------------------------------------------------------------------\u001b[0m",
      "\u001b[1;31mNameError\u001b[0m                                 Traceback (most recent call last)",
      "Cell \u001b[1;32mIn[20], line 2\u001b[0m\n\u001b[0;32m      1\u001b[0m \u001b[39mtry\u001b[39;00m:\n\u001b[1;32m----> 2\u001b[0m     a\u001b[39m=\u001b[39mb\u001b[39m+\u001b[39m\u001b[39m3\u001b[39m\n\u001b[0;32m      3\u001b[0m \u001b[39mexcept\u001b[39;00m \u001b[39mException\u001b[39;00m \u001b[39mas\u001b[39;00m e:\n",
      "\u001b[1;31mNameError\u001b[0m: name 'b' is not defined",
      "\nDuring handling of the above exception, another exception occurred:\n",
      "\u001b[1;31mCustomException\u001b[0m                           Traceback (most recent call last)",
      "Cell \u001b[1;32mIn[20], line 4\u001b[0m\n\u001b[0;32m      2\u001b[0m     a\u001b[39m=\u001b[39mb\u001b[39m+\u001b[39m\u001b[39m3\u001b[39m\n\u001b[0;32m      3\u001b[0m \u001b[39mexcept\u001b[39;00m \u001b[39mException\u001b[39;00m \u001b[39mas\u001b[39;00m e:\n\u001b[1;32m----> 4\u001b[0m     \u001b[39mraise\u001b[39;00m CustomException(e,sys)\n",
      "\u001b[1;31mCustomException\u001b[0m: Error occured in python script name [C:\\Users\\Hp\\AppData\\Local\\Temp\\ipykernel_12480\\4132250833.py] \nline number [2] \nerror message[name 'b' is not defined]"
     ]
    }
   ],
   "source": [
    "try:\n",
    "    a=b+3\n",
    "except Exception as e:\n",
    "    raise CustomException(e,sys)"
   ]
  },
  {
   "attachments": {},
   "cell_type": "markdown",
   "metadata": {},
   "source": [
    "Q5.Why do you no longer use string-based exceptions?"
   ]
  },
  {
   "attachments": {},
   "cell_type": "markdown",
   "metadata": {},
   "source": [
    " string-based exceptions are hard when it comes to handle and raise exceptions consistently, debugging also quite hard in string based exceptions. it is deprecated since python 2.5"
   ]
  },
  {
   "attachments": {},
   "cell_type": "markdown",
   "metadata": {},
   "source": [
    " it's not possible to attach additional data or attributes to a string-based exception, which can make it harder to provide detailed error messages or other context information."
   ]
  }
 ],
 "metadata": {
  "language_info": {
   "name": "python"
  },
  "orig_nbformat": 4
 },
 "nbformat": 4,
 "nbformat_minor": 2
}
