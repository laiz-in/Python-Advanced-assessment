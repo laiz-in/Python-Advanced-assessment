{
 "cells": [
  {
   "cell_type": "markdown",
   "metadata": {},
   "source": [
    "## Q1. Is it permissible to use several import statements to import the same module? What would the goal be? Can you think of a situation where it would be beneficial?\n",
    "\n"
   ]
  },
  {
   "cell_type": "markdown",
   "metadata": {},
   "source": [
    ">Yes it permissible to use several import statements for the saem module"
   ]
  },
  {
   "cell_type": "markdown",
   "metadata": {},
   "source": [
    ">but for the code optimization it is better to use one lone of code to import module and its sub modules"
   ]
  },
  {
   "cell_type": "markdown",
   "metadata": {},
   "source": [
    ">it is beneficial only when we need to use different names for the modules or its sub modules\n"
   ]
  },
  {
   "cell_type": "markdown",
   "metadata": {},
   "source": [
    "## Q2. What are some of a module's characteristics? (Name at least one.)\n",
    "\n"
   ]
  },
  {
   "cell_type": "markdown",
   "metadata": {},
   "source": [
    ">A module is a file that contains Python code. The file name must end with the .py extension.\n",
    "\n",
    ">A module can define functions, classes, and variables. These definitions are available to other modules that import the module.\n",
    "\n",
    ">A module can also contain documentation. This documentation can be used to learn about the module and its functions.\n",
    "\n",
    ">A module can be imported into another module using the import statement. This allows the importing module to access the definitions in the imported module.\n",
    "\n",
    ">A module can be imported multiple times. Each time the module is imported, a new copy of the module is created.\n",
    "\n",
    ">A module can be imported in a different way. For example, you can use the from keyword to import specific parts of the module into the current namespace."
   ]
  },
  {
   "cell_type": "markdown",
   "metadata": {},
   "source": [
    "## Q3. Circular importing, such as when two modules import each other, can lead to dependencies and bugs that aren't visible. How can you go about creating a program that avoids mutual importing?\n",
    "\n"
   ]
  },
  {
   "cell_type": "markdown",
   "metadata": {},
   "source": [
    ">Circular importing is a situation where two modules import each other recursively. This can lead to dependencies and bugs that are not visible"
   ]
  },
  {
   "cell_type": "markdown",
   "metadata": {},
   "source": [
    ">Import modules inside functions or methods where they are needed, rather than at the top level of the modules. This way, the imports are deferred until the point of use, reducing the chances of circular dependencies."
   ]
  },
  {
   "cell_type": "markdown",
   "metadata": {},
   "source": [
    "## Q4. Why is _ _all_ _ in Python?\n",
    "\n"
   ]
  },
  {
   "cell_type": "markdown",
   "metadata": {},
   "source": [
    ">The __ all__ variable in Python is a special variable that is used to control which names are imported when a module is imported. The __all__ variable is a list of strings, and each string in the list is the name of a symbol that should be imported."
   ]
  },
  {
   "cell_type": "code",
   "execution_count": 1,
   "metadata": {},
   "outputs": [],
   "source": [
    "#assume this is meramodule.py\n",
    "\n",
    "def function1():\n",
    "  pass\n",
    "\n",
    "def function2():\n",
    "  pass\n",
    "\n",
    "__all__ = [\"function1\"]\n",
    "\n",
    "#so when we import the meramodule , only the functrion1() will be inmported"
   ]
  },
  {
   "cell_type": "markdown",
   "metadata": {},
   "source": [
    "## Q5. In what situation is it useful to refer to the _ _name_ _ attribute or the string '_ _main_ _'?\n",
    "\n"
   ]
  },
  {
   "cell_type": "markdown",
   "metadata": {},
   "source": [
    ">The __ name__ attribute is useful for determining whether a module is being imported or run as the main program"
   ]
  },
  {
   "cell_type": "markdown",
   "metadata": {},
   "source": [
    ">The __ main__ string is useful for executing code only when the module is being run as the main program\n",
    "\n"
   ]
  },
  {
   "cell_type": "markdown",
   "metadata": {},
   "source": [
    "## Q6. What are some of the benefits of attaching a program counter to the RPN interpreter application, which interprets an RPN script line by line?\n",
    "\n"
   ]
  },
  {
   "cell_type": "markdown",
   "metadata": {},
   "source": [
    ">It can help to track the execution of the script. The program counter can be used to keep track of the current line of the script that is being executed. This can be useful for debugging purposes, as it can help to identify the line of the script that is causing an error\n",
    "\n",
    ">It can be used to implement loops and conditional statements. The program counter can be used to implement loops and conditional statements. This is because the program counter can be used to jump to a specific line of the script\n",
    "\n",
    ">It can be used to implement recursion. The program counter can be used to implement recursion. This is because the program counter can be used to call a function and then return to the line of the script where the function was called"
   ]
  },
  {
   "cell_type": "markdown",
   "metadata": {},
   "source": [
    "## Q7. What are the minimum expressions or statements (or both) that you'd need to render a basic programming language like RPN primitive but complete— that is, capable of carrying out any computerised task theoretically possible?"
   ]
  },
  {
   "cell_type": "markdown",
   "metadata": {},
   "source": [
    ">You need support for numerical values, which can be integers or floating-point numbers.\n",
    "Literals: Allow literals like strings, booleans, or characters.\n",
    "\n",
    "\n",
    ">PUSH: Push a value onto the stack.\n",
    "\n",
    ">POP: Pop a value from the stack.\n",
    "\n",
    ">DUP: Duplicate the top value of the stack.\n",
    "\n",
    ">SWAP: Swap the positions of the top two values on the stack.\n",
    "\n",
    ">CLEAR: Clear the entire stack.\n",
    "\n",
    ">Arithmetic Operations:\n",
    "\n",
    ">Comparison and Conditional Statements\n",
    "\n",
    "\n",
    "\n",
    "\n"
   ]
  },
  {
   "cell_type": "markdown",
   "metadata": {},
   "source": []
  }
 ],
 "metadata": {
  "kernelspec": {
   "display_name": "Python 3",
   "language": "python",
   "name": "python3"
  },
  "language_info": {
   "codemirror_mode": {
    "name": "ipython",
    "version": 3
   },
   "file_extension": ".py",
   "mimetype": "text/x-python",
   "name": "python",
   "nbconvert_exporter": "python",
   "pygments_lexer": "ipython3",
   "version": "3.9.10"
  },
  "orig_nbformat": 4
 },
 "nbformat": 4,
 "nbformat_minor": 2
}
