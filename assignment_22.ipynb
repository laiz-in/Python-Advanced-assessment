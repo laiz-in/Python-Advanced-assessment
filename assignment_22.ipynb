{
 "cells": [
  {
   "cell_type": "markdown",
   "metadata": {},
   "source": [
    "## Q1. What are the benefits of the built-in array package, if any?\n",
    "\n"
   ]
  },
  {
   "cell_type": "markdown",
   "metadata": {},
   "source": [
    ">Faster execution. Arrays can be accessed and manipulated more efficiently than lists. This is because arrays are stored in contiguous memory, while lists are stored in a linked list data structure.\n",
    "\n",
    ">Less memory usage. Arrays can use less memory than lists. This is because arrays do not need to store pointers to the next element in the list.\n",
    "\n",
    ">Easier to manage. Arrays are easier to manage than lists. This is because arrays have a fixed size, while lists can grow or shrink dynamically.\n",
    "\n",
    ">Support for a variety of data types. Arrays support a variety of data types, including integers, floats, strings, and complex numbers. This makes them more versatile than lists, which can only store objects.\n",
    "\n",
    ">Built-in functions. The array package comes with a number of built-in functions that make it easy to manipulate arrays. These functions include append(), insert(), remove(), sort(), and search()"
   ]
  },
  {
   "cell_type": "markdown",
   "metadata": {},
   "source": [
    "## Q2. What are some of the array package's limitations?\n",
    "\n"
   ]
  },
  {
   "cell_type": "markdown",
   "metadata": {},
   "source": [
    ">Fixed size: Arrays have a fixed size, which means that they cannot be resized dynamically. This can be a limitation if you need to store a large amount of data or if you need to add or remove elements from the array frequently.\n",
    "\n",
    ">Not as versatile as lists: Arrays can only store elements of the same data type, while lists can store elements of any data type. This makes lists more versatile than arrays.\n",
    "\n",
    ">Not as efficient for certain operations: Arrays are not as efficient for certain operations, such as inserting or removing elements from the middle of the array. This is because arrays need to shift all of the elements after the insertion or removal operation.\n",
    "\n",
    ">Not as flexible as other data structures: Arrays are not as flexible as other data structures, such as linked lists and trees. This is because arrays are a more rigid data structure."
   ]
  },
  {
   "cell_type": "markdown",
   "metadata": {},
   "source": [
    "## Q3. Describe the main differences between the array and numpy packages.\n",
    "\n"
   ]
  },
  {
   "cell_type": "markdown",
   "metadata": {},
   "source": [
    ">Performance:   NumPy arrays are much faster than Python lists for numerical operations. This is because NumPy arrays are stored in contiguous memory, while Python lists are stored in a linked list data structure.\n",
    "\n",
    ">Data types:    NumPy arrays can store elements of any data type, while Python lists can only store elements of object type. This makes NumPy arrays more versatile than Python lists.\n",
    "\n",
    ">Functionality:    NumPy provides a wider range of mathematical functions for operating on arrays than the array package. This makes NumPy arrays more powerful for scientific \n",
    "computing applications.\n",
    "\n",
    ">Ease of use:     NumPy arrays are more complex than Python lists. This can make them more difficult to learn and use."
   ]
  },
  {
   "cell_type": "markdown",
   "metadata": {},
   "source": [
    "## Q4. Explain the distinctions between the empty, ones, and zeros functions.\n",
    "\n"
   ]
  },
  {
   "cell_type": "code",
   "execution_count": 6,
   "metadata": {},
   "outputs": [
    {
     "name": "stdout",
     "output_type": "stream",
     "text": [
      "empty array\n",
      " [[1 1]\n",
      " [1 1]\n",
      " [1 1]]\n",
      "ones array\n",
      " [[1 1]\n",
      " [1 1]\n",
      " [1 1]]\n",
      "zeros array\n",
      " [[0 0]\n",
      " [0 0]\n",
      " [0 0]]\n"
     ]
    }
   ],
   "source": [
    "#empty(): Creates an uninitialized array of the specified shape and dtype. The elements of the array are not initialized to any particular value.\n",
    "import numpy as np\n",
    "arr = np.empty((3, 2), dtype=int)\n",
    "print(\"empty array\\n\",arr)\n",
    "\n",
    "\n",
    "#ones(): Creates an array of the specified shape and dtype, filled with ones.\n",
    "import numpy as np\n",
    "arr = np.ones((3, 2), dtype=int)\n",
    "print(\"ones array\\n\",arr)\n",
    "\n",
    "\n",
    "#zeros(): Creates an array of the specified shape and dtype, filled with zeros.\n",
    "import numpy as np\n",
    "arr = np.zeros((3, 2), dtype=int)\n",
    "print(\"zeros array\\n\",arr)\n"
   ]
  },
  {
   "cell_type": "markdown",
   "metadata": {},
   "source": [
    "## Q5. In the fromfunction function, which is used to construct new arrays, what is the role of the callable argument?\n",
    "\n"
   ]
  },
  {
   "cell_type": "markdown",
   "metadata": {},
   "source": [
    ">callable argument in the NumPy fromfunction() function is a function that is used to generate the elements of the new array. The function must take as many arguments as the array has dimensions, and it must return a single value."
   ]
  },
  {
   "cell_type": "code",
   "execution_count": 8,
   "metadata": {},
   "outputs": [
    {
     "name": "stdout",
     "output_type": "stream",
     "text": [
      "[ 0  2  4  6  8 10 12 14 16 18]\n"
     ]
    }
   ],
   "source": [
    "import numpy as np\n",
    "\n",
    "def doubles(x):\n",
    "  return x * 2\n",
    "\n",
    "#function to create a new array of integers, filled doubles of the numbers from 1 to 10:\n",
    "arr = np.fromfunction(doubles, (10,), dtype=int)\n",
    "print(arr)"
   ]
  },
  {
   "cell_type": "markdown",
   "metadata": {},
   "source": [
    "## Q6. What happens when a numpy array is combined with a single-value operand (a scalar, such as an int or a floating-point value) through addition, as in the expression A + n?\n",
    "\n"
   ]
  },
  {
   "cell_type": "markdown",
   "metadata": {},
   "source": [
    ">We can add a numpy array with a number of integer or floating point\n",
    "\n",
    ">all thre elements will be operated by the saem operand"
   ]
  },
  {
   "cell_type": "code",
   "execution_count": 9,
   "metadata": {},
   "outputs": [
    {
     "name": "stdout",
     "output_type": "stream",
     "text": [
      "[[11 12 13]\n",
      " [13 17 19]]\n"
     ]
    }
   ],
   "source": [
    "import numpy as n\n",
    "arr = np.array([[1, 2, 3],\n",
    "                [3,7,9]])\n",
    "\n",
    "n = 10\n",
    "result = arr + n\n",
    "print(result)"
   ]
  },
  {
   "cell_type": "markdown",
   "metadata": {},
   "source": [
    "## Q7. Can array-to-scalar operations use combined operation-assign operators (such as += or *=)? What is the outcome?\n",
    "\n"
   ]
  },
  {
   "cell_type": "markdown",
   "metadata": {},
   "source": [
    "> Yes we can use combined operation-assign operators with numpy arrays"
   ]
  },
  {
   "cell_type": "code",
   "execution_count": 10,
   "metadata": {},
   "outputs": [
    {
     "name": "stdout",
     "output_type": "stream",
     "text": [
      "[[11 12 13]\n",
      " [13 17 19]]\n"
     ]
    }
   ],
   "source": [
    "import numpy as n\n",
    "arr = np.array([[1, 2, 3],\n",
    "                [3,7,9]])\n",
    "\n",
    "n = 10\n",
    "arr+=n\n",
    "print(arr)"
   ]
  },
  {
   "cell_type": "markdown",
   "metadata": {},
   "source": [
    "## Q8. Does a numpy array contain fixed-length strings? What happens if you allocate a longer string to one of these arrays?\n",
    "\n"
   ]
  },
  {
   "cell_type": "markdown",
   "metadata": {},
   "source": [
    ">Yes numpy array contain fixed lenghth strings, that we can set while defining the array\n",
    "\n",
    ">if the given string is longer than the specified length, then the string will be truncated to the size we defined"
   ]
  },
  {
   "cell_type": "code",
   "execution_count": 12,
   "metadata": {},
   "outputs": [
    {
     "data": {
      "text/plain": [
       "array([b'apples', b'waterm', b'cherry'], dtype='|S6')"
      ]
     },
     "execution_count": 12,
     "metadata": {},
     "output_type": "execute_result"
    }
   ],
   "source": [
    "import numpy as np\n",
    "\n",
    "string_array = np.array(['apples', 'banana', 'cherry'], dtype='S6')\n",
    "\n",
    "string_array[1] = 'watermelon' \n",
    "string_array\n"
   ]
  },
  {
   "cell_type": "markdown",
   "metadata": {},
   "source": [
    ">As you can see , the wtermelon is truncated to waterm . ie the size 6"
   ]
  },
  {
   "cell_type": "markdown",
   "metadata": {},
   "source": [
    "## Q9. What happens when you combine two numpy arrays using an operation like addition (+) or multiplication (*)? What are the conditions for combining two numpy arrays?\n"
   ]
  },
  {
   "cell_type": "markdown",
   "metadata": {},
   "source": [
    "> Arrays should have the same size for the operations like addition or substraction"
   ]
  },
  {
   "cell_type": "code",
   "execution_count": 14,
   "metadata": {},
   "outputs": [
    {
     "name": "stdout",
     "output_type": "stream",
     "text": [
      "[5 7 9]\n"
     ]
    }
   ],
   "source": [
    "import numpy as np\n",
    "\n",
    "arr1 = np.array([1, 2, 3])\n",
    "arr2 = np.array([4, 5, 6])\n",
    "\n",
    "result = arr1 + arr2\n",
    "print(result)\n",
    "\n",
    "#corrsponding numbers will be added to make the resultand array"
   ]
  },
  {
   "cell_type": "markdown",
   "metadata": {},
   "source": [
    "## Q10. What is the best way to use a Boolean array to mask another array?\n",
    "\n"
   ]
  },
  {
   "cell_type": "code",
   "execution_count": 18,
   "metadata": {},
   "outputs": [
    {
     "name": "stdout",
     "output_type": "stream",
     "text": [
      "[1 3]\n"
     ]
    }
   ],
   "source": [
    "import numpy as np\n",
    "\n",
    "data = np.array([1, 2, 3, 4, 5])\n",
    "\n",
    "mask = np.array([True, False, True, False, False])\n",
    "\n",
    "masked_Arr = data[mask]\n",
    "\n",
    "print(masked_Arr)\n",
    "#masked array will remain only the elements where the mask array have the True values\n"
   ]
  },
  {
   "cell_type": "markdown",
   "metadata": {},
   "source": [
    "## Q11. What are three different ways to get the standard deviation of a wide collection of data using both standard Python and its packages? Sort the three of them by how quickly they execute.\n",
    "\n"
   ]
  },
  {
   "cell_type": "code",
   "execution_count": 21,
   "metadata": {},
   "outputs": [
    {
     "name": "stdout",
     "output_type": "stream",
     "text": [
      "\n",
      "\n",
      "Numpy STANDARD DEVIATION: 17.958210, Execution Time: 0.000000 seconds\n",
      "\n",
      "\n",
      "Normal Python STANDARD DEVIATION: 17.958210, Execution Time: 0.001013 seconds\n",
      "\n",
      "\n",
      "Statistics Module (Sample) STANDARD DEVIATION: 17.958210, Execution Time: 0.003988 seconds\n",
      "\n",
      "\n",
      "Statistics Module (Population) STANDARD DEVIATION: 17.958210, Execution Time: 0.003998 seconds\n"
     ]
    }
   ],
   "source": [
    "import pandas\n",
    "import statistics\n",
    "import numpy as np\n",
    "import time\n",
    "\n",
    "data = [5, 6, 9, 3, 8, 9, 6, 4, 7, 9, 6, 25, 67, 4, 16, 17, 14, 1, 8, 4, 9, 8, 8, 7, 6, 88, 4, 4, 5, 6, 9, 3, 8, 9, 6, 4, 7, 9, 6, 25, 67, 4, 16, 17, 14, 1, 8, 4, 9, 8, 8, 7, 6, 88, 4, 4, 4, 16, 17, 14, 1, 8, 4, 9, 8, 8, 7, 6, 88, 4, 4, 5, 6, 9, 3, 8, 9, 6, 4, 7, 9, 6]\n",
    "data=data*24\n",
    "# Define a list to store calculations and execution times\n",
    "calculation_times = []\n",
    "\n",
    "# Normal Python calculation\n",
    "start_time = time.time()\n",
    "mean = sum(data) / len(data)\n",
    "variance = sum((x - mean) ** 2 for x in data) / len(data)\n",
    "std_deviation = variance ** 0.5\n",
    "end_time = time.time()\n",
    "calculation_times.append((\"Normal Python\", end_time - start_time))\n",
    "\n",
    "# By using statistics module (sample standard deviation)\n",
    "start_time = time.time()\n",
    "std_deviation = statistics.stdev(data)\n",
    "end_time = time.time()\n",
    "calculation_times.append((\"Statistics Module (Sample)\", end_time - start_time))\n",
    "\n",
    "# By using statistics module (population standard deviation)\n",
    "start_time = time.time()\n",
    "std_deviation = statistics.pstdev(data)\n",
    "end_time = time.time()\n",
    "calculation_times.append((\"Statistics Module (Population)\", end_time - start_time))\n",
    "\n",
    "# By using numpy\n",
    "start_time = time.time()\n",
    "std_deviation = np.std(data)\n",
    "end_time = time.time()\n",
    "calculation_times.append((\"Numpy\", end_time - start_time))\n",
    "\n",
    "# Sort the calculations by execution time\n",
    "sorted_calculation_times = sorted(calculation_times, key=lambda x: x[1])\n",
    "\n",
    "# Print sorted results\n",
    "for calc_label, exec_time in sorted_calculation_times:\n",
    "    print(f\"\\n\\n{calc_label} STANDARD DEVIATION: {std_deviation:.6f}, Execution Time: {exec_time:.6f} seconds\")\n"
   ]
  },
  {
   "cell_type": "markdown",
   "metadata": {},
   "source": [
    ">NUMPY STANDARD DEVIATION WAS THE FASTEST TO FIND THE DEVIATION"
   ]
  },
  {
   "cell_type": "markdown",
   "metadata": {},
   "source": [
    "## 12. What is the dimensionality of a Boolean mask-generated array?"
   ]
  },
  {
   "cell_type": "markdown",
   "metadata": {},
   "source": [
    "> The dimensionality of a Boolean mask-generated array is the same as the dimensionality of the original array that the mask is applied to. In other words, if you have a 1D array and you apply a Boolean mask to it, the resulting Boolean mask-generated array will also be 1D. If you have a 2D array and apply a Boolean mask, the resulting array will be 2D, and so on."
   ]
  }
 ],
 "metadata": {
  "kernelspec": {
   "display_name": "Python 3",
   "language": "python",
   "name": "python3"
  },
  "language_info": {
   "codemirror_mode": {
    "name": "ipython",
    "version": 3
   },
   "file_extension": ".py",
   "mimetype": "text/x-python",
   "name": "python",
   "nbconvert_exporter": "python",
   "pygments_lexer": "ipython3",
   "version": "3.9.10"
  },
  "orig_nbformat": 4
 },
 "nbformat": 4,
 "nbformat_minor": 2
}
