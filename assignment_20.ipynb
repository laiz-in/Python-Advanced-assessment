{
 "cells": [
  {
   "cell_type": "markdown",
   "metadata": {},
   "source": [
    "## 1. Compare and contrast the float and Decimal classes' benefits and drawbacks.\n",
    "\n"
   ]
  },
  {
   "cell_type": "markdown",
   "metadata": {},
   "source": [
    ">Float stores an approximate value and decimal stores an exact value. In summary, exact values like money should use decimal, and approximate values like scientific measurements should use float. When multiplying a non integer and dividing by that same number, decimals lose precision while floats do not."
   ]
  },
  {
   "cell_type": "code",
   "execution_count": 2,
   "metadata": {},
   "outputs": [
    {
     "name": "stdout",
     "output_type": "stream",
     "text": [
      "Using float:\n",
      "num_float: 0.30000000000000004\n",
      "num_float == 0.3: False\n",
      "\n",
      "Using Decimal:\n",
      "num_decimal: 0.3\n",
      "num_decimal == 0.3: True\n"
     ]
    }
   ],
   "source": [
    "from decimal import Decimal\n",
    "\n",
    "\n",
    "num_float = 0.1 + 0.1 + 0.1\n",
    "\n",
    "print(\"Using float:\")\n",
    "print(\"num_float:\", num_float)  \n",
    "print(\"num_float == 0.3:\", num_float == 0.3) \n",
    "\n",
    "num_decimal = Decimal('0.1') + Decimal('0.1') + Decimal('0.1')\n",
    "\n",
    "print(\"\\nUsing Decimal:\")\n",
    "print(\"num_decimal:\", num_decimal)\n",
    "print(\"num_decimal == 0.3:\", num_decimal == Decimal('0.3')) \n"
   ]
  },
  {
   "cell_type": "markdown",
   "metadata": {},
   "source": [
    "## 2. Decimal('1.200') and Decimal('1.2') are two objects to consider. In what sense are these the same object? Are these just two ways of representing the exact same value, or do they correspond to different internal states?\n",
    "\n"
   ]
  },
  {
   "cell_type": "code",
   "execution_count": 7,
   "metadata": {},
   "outputs": [
    {
     "name": "stdout",
     "output_type": "stream",
     "text": [
      "Are they the same object? False\n",
      "Do they have the same value?  True\n"
     ]
    }
   ],
   "source": [
    "from decimal import Decimal\n",
    "\n",
    "#create Decimal objects using different string representations\n",
    "decimal1 = Decimal('1.200')\n",
    "decimal2 = Decimal('1.2')\n",
    "\n",
    "#check if they are the same object , if yes print True\n",
    "print(\"Are they the same object?\", decimal1 is decimal2) \n",
    "\n",
    "#check if they have the same value. if yes print True\n",
    "print(\"Do they have the same value? \", decimal1 == decimal2) \n",
    "\n"
   ]
  },
  {
   "cell_type": "markdown",
   "metadata": {},
   "source": [
    "## 3. What happens if the equality of Decimal('1.200') and Decimal('1.2') is checked?\n",
    "\n"
   ]
  },
  {
   "cell_type": "markdown",
   "metadata": {},
   "source": [
    "it will show they are equal\n",
    "\n",
    "but equal objects"
   ]
  },
  {
   "cell_type": "markdown",
   "metadata": {},
   "source": [
    "## 4. Why is it preferable to start a Decimal object with a string rather than a floating-point value?\n",
    "\n"
   ]
  },
  {
   "cell_type": "markdown",
   "metadata": {},
   "source": [
    "Starting a Decimal object with a string rather than a floating-point value is preferable due to precision and accuracy concerns when dealing with decimal numbers in numerical computations. "
   ]
  },
  {
   "cell_type": "markdown",
   "metadata": {},
   "source": [
    "## 5. In an arithmetic phrase, how simple is it to combine Decimal objects with integers?\n",
    "\n"
   ]
  },
  {
   "cell_type": "markdown",
   "metadata": {},
   "source": [
    "it simple in python"
   ]
  },
  {
   "cell_type": "code",
   "execution_count": 8,
   "metadata": {},
   "outputs": [
    {
     "name": "stdout",
     "output_type": "stream",
     "text": [
      "Result: 6.23\n",
      "Other Result: 12.30\n"
     ]
    }
   ],
   "source": [
    "from decimal import Decimal\n",
    "\n",
    "decimal_value = Decimal('1.23')\n",
    "\n",
    "result = decimal_value + 5\n",
    "print(\"Result:\", result) \n",
    "\n",
    "other_result = decimal_value * 10\n",
    "print(\"Other Result:\", other_result)  \n"
   ]
  },
  {
   "cell_type": "markdown",
   "metadata": {},
   "source": [
    "## 6. Can Decimal objects and floating-point values be combined easily?\n",
    "\n"
   ]
  },
  {
   "cell_type": "code",
   "execution_count": 15,
   "metadata": {},
   "outputs": [
    {
     "name": "stdout",
     "output_type": "stream",
     "text": [
      "Result: 3.73\n",
      "Other Result: 3.075\n"
     ]
    }
   ],
   "source": [
    "# ITS NOT POSSIBLE BUT WE WILL HAVE TO CONVERT THE DECIMAL TO FLOATING POINT VALUE BEFORE OPERATIONS\n",
    "\n",
    "from decimal import Decimal\n",
    "\n",
    "decimal_value = Decimal('1.23')\n",
    "float_value = 2.5\n",
    "result = decimal_value + Decimal(str(float_value))\n",
    "print(\"Result:\", result)  \n",
    "\n",
    "\n",
    "other_result = decimal_value * Decimal(str(float_value))\n",
    "print(\"Other Result:\", other_result)  \n",
    "\n"
   ]
  },
  {
   "cell_type": "markdown",
   "metadata": {},
   "source": [
    "## 7. Using the Fraction class but not the Decimal class, give an example of a quantity that can be expressed with absolute precision.\n",
    "\n"
   ]
  },
  {
   "cell_type": "code",
   "execution_count": 17,
   "metadata": {},
   "outputs": [
    {
     "name": "stdout",
     "output_type": "stream",
     "text": [
      "Fraction: 3/7\n",
      "accurate Fraction: 0.42857142857142855\n"
     ]
    }
   ],
   "source": [
    "from fractions import Fraction\n",
    "\n",
    "fraction_value = Fraction(3, 7)\n",
    "\n",
    "print(\"Fraction:\", fraction_value)  \n",
    "print(\"accurate Fraction:\", 3/7)  \n",
    "\n",
    "\n"
   ]
  },
  {
   "cell_type": "markdown",
   "metadata": {},
   "source": [
    "## 8. Describe a quantity that can be accurately expressed by the Decimal or Fraction classes but not by a floating-point value.\n",
    "\n"
   ]
  },
  {
   "cell_type": "code",
   "execution_count": 20,
   "metadata": {},
   "outputs": [
    {
     "name": "stdout",
     "output_type": "stream",
     "text": [
      "Decimal: 0.3333333333333333333333333333\n",
      "Fraction: 1/3\n"
     ]
    }
   ],
   "source": [
    "from decimal import Decimal\n",
    "from fractions import Fraction\n",
    "\n",
    "decimal_value = Decimal(1) / Decimal(3)\n",
    "\n",
    "fraction_value = Fraction(1, 3)\n",
    "\n",
    "print(\"Decimal:\", decimal_value)   \n",
    "print(\"Fraction:\", fraction_value)  \n"
   ]
  },
  {
   "cell_type": "markdown",
   "metadata": {},
   "source": [
    "## 9.Consider the following two fraction objects: Fraction(1, 2) and Fraction(1, 2). (5, 10). Is the internal state of these two objects the same? Why do you think that is?\n",
    "\n"
   ]
  },
  {
   "cell_type": "code",
   "execution_count": 22,
   "metadata": {},
   "outputs": [
    {
     "name": "stdout",
     "output_type": "stream",
     "text": [
      "Fraction 1: 1/2\n",
      "Fraction 2: 1/2\n"
     ]
    }
   ],
   "source": [
    "from fractions import Fraction\n",
    "\n",
    "fraction1 = Fraction(1, 2)\n",
    "fraction2 = Fraction(5, 10)\n",
    "\n",
    "print(\"Fraction 1:\", fraction1)  \n",
    "print(\"Fraction 2:\", fraction2)  \n",
    "\n",
    "#both having the same intenal states\n"
   ]
  },
  {
   "cell_type": "markdown",
   "metadata": {},
   "source": [
    "## 10. How do the Fraction class and the integer type (int) relate to each other? Containment or inheritance?"
   ]
  },
  {
   "cell_type": "markdown",
   "metadata": {},
   "source": [
    "The Fraction class and the int type (integer) in Python are related through containment, not inheritance."
   ]
  },
  {
   "cell_type": "code",
   "execution_count": 23,
   "metadata": {},
   "outputs": [
    {
     "name": "stdout",
     "output_type": "stream",
     "text": [
      "Fraction: 5/2\n"
     ]
    }
   ],
   "source": [
    "from fractions import Fraction\n",
    "\n",
    "integer_value = 5\n",
    "fraction_value = Fraction(integer_value, 2)\n",
    "\n",
    "print(\"Fraction:\", fraction_value) "
   ]
  }
 ],
 "metadata": {
  "kernelspec": {
   "display_name": "Python 3",
   "language": "python",
   "name": "python3"
  },
  "language_info": {
   "codemirror_mode": {
    "name": "ipython",
    "version": 3
   },
   "file_extension": ".py",
   "mimetype": "text/x-python",
   "name": "python",
   "nbconvert_exporter": "python",
   "pygments_lexer": "ipython3",
   "version": "3.9.10"
  },
  "orig_nbformat": 4
 },
 "nbformat": 4,
 "nbformat_minor": 2
}
