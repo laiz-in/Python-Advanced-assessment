{
 "cells": [
  {
   "cell_type": "markdown",
   "metadata": {},
   "source": [
    "## Q1. What is the distinction between a numpy array and a pandas data frame? Is there a way to convert between the two if there is?\n",
    "\n"
   ]
  },
  {
   "cell_type": "markdown",
   "metadata": {},
   "source": [
    ">Numpy arrays and Pandas DataFrames are both data structures used for handling and manipulating data\n",
    "\n",
    ">Numpy arrays are designed for homogeneous data, meaning that all elements in a numpy array must have the same data type\n",
    "\n",
    ">Pandas DataFrames are designed for heterogeneous data, where columns can have different data types. This makes them suitable for tabular data similar to a spreadsheet or SQL table.\n",
    "\n",
    "> Numpy arrays can be multidimensional, allowing you to work with data in multiple dimensions\n",
    "\n",
    ">DataFrames represent data in a tabular form, with rows and columns. Each column can have a unique data type, and columns are labeled with names"
   ]
  },
  {
   "cell_type": "code",
   "execution_count": 6,
   "metadata": {},
   "outputs": [
    {
     "name": "stdout",
     "output_type": "stream",
     "text": [
      "numpy array \n",
      " [[1 2 3]\n",
      " [4 5 6]]\n",
      "After converting to dataframe\n",
      "    A  B  C\n",
      "0  1  2  3\n",
      "1  4  5  6\n",
      "\n",
      "\n",
      "\n",
      " Dataframe before converting\n",
      "    A  B\n",
      "0  1  4\n",
      "1  2  5\n",
      "2  3  6\n",
      "\n",
      "Dataframe after converting into numpy array\n",
      " [[1 4]\n",
      " [2 5]\n",
      " [3 6]]\n"
     ]
    }
   ],
   "source": [
    "#converting numpy array into pandas dataframe\n",
    "import pandas as pd\n",
    "import numpy as np\n",
    "\n",
    "numpy_array = np.array([[1, 2, 3], [4, 5, 6]])\n",
    "print(\"numpy array \\n\",numpy_array)\n",
    "df = pd.DataFrame(numpy_array, columns=[\"A\", \"B\", \"C\"])\n",
    "print(\"After converting to dataframe\\n\",df)\n",
    "\n",
    "#converting pandas dataframe into numpy array\n",
    "df = pd.DataFrame({\"A\": [1, 2, 3], \"B\": [4, 5, 6]})\n",
    "print(\"\\n\\n\\n Dataframe before converting\\n\",df)\n",
    "numpy_array = df.to_numpy()\n",
    "print(\"\\nDataframe after converting into numpy array\\n\",numpy_array)\n"
   ]
  },
  {
   "cell_type": "markdown",
   "metadata": {},
   "source": [
    "## Q2. What can go wrong when an user enters in a stock-ticker symbol, and how do you handle it?\n",
    "\n"
   ]
  },
  {
   "cell_type": "markdown",
   "metadata": {},
   "source": [
    "The ticker symbol may not exist. This can happen if the user misspells the ticker symbol or if the company has delisted from the stock exchange\n",
    "\n",
    "The ticker symbol may be for a different exchange. For example, the user may enter the ticker symbol for Apple Inc. (AAPL) on the New York Stock Exchange (NYSE), but the company is also traded on the Nasdaq Stock Exchange (NASDAQ)\n",
    "\n",
    "The ticker symbol may be for a closed market. This can happen if the stock exchange is closed for the day or if the market is closed due to a holiday\n",
    "\n",
    "The ticker symbol may be for a security that is not tradable. This can happen if the security is illiquid or if it is a restricted security"
   ]
  },
  {
   "cell_type": "markdown",
   "metadata": {},
   "source": [
    "## Q3. Identify some of the plotting techniques that are used to produce a stock-market chart.\n",
    "\n"
   ]
  },
  {
   "cell_type": "markdown",
   "metadata": {},
   "source": [
    ">Line chart, A line chart is the simplest type of chart and it shows the closing price of a stock over time. The closing price is the price of a stock at the end of the trading day."
   ]
  },
  {
   "cell_type": "markdown",
   "metadata": {},
   "source": [
    ">Candlestick chart, A candlestick chart is a more advanced type of chart that shows the opening, closing, highest, and lowest prices of a stock over time. The candlesticks can be used to identify trends and patterns in the stock market"
   ]
  },
  {
   "cell_type": "markdown",
   "metadata": {},
   "source": [
    ">Bar chart,  A bar chart is similar to a line chart, but it shows the opening, closing, highest, and lowest prices of a stock as bars. The bars can be used to identify trends and patterns in the stock market"
   ]
  },
  {
   "cell_type": "markdown",
   "metadata": {},
   "source": [
    "## Q4. Why is it essential to print a legend on a stock market chart?\n",
    "\n"
   ]
  },
  {
   "cell_type": "markdown",
   "metadata": {},
   "source": [
    "It makes the chart easier to read: The legend helps the reader to quickly identify the different elements of the chart, such as the different colors, symbols, or lines\n",
    "\n",
    "It helps to avoid confusion: The legend helps to avoid confusion by ensuring that the reader knows what each element of the chart represents\n",
    "\n",
    "It improves the readability of the chart: The legend makes the chart more readable by providing a clear and concise explanation of the different element\n",
    "\n",
    "It is a standard practice: It is a standard practice to print a legend on a stock market chart. This makes it easier for the reader to understand the chart, regardless of the source"
   ]
  },
  {
   "cell_type": "markdown",
   "metadata": {},
   "source": [
    "## Q5. What is the best way to limit the length of a pandas data frame to less than a year?\n",
    "\n"
   ]
  },
  {
   "cell_type": "code",
   "execution_count": 8,
   "metadata": {},
   "outputs": [
    {
     "name": "stdout",
     "output_type": "stream",
     "text": [
      "        Date  Value\n",
      "0 2023-01-01      1\n",
      "1 2023-02-01      2\n",
      "2 2023-03-01      3\n",
      "3 2023-04-01      4\n",
      "4 2023-05-01      5\n",
      "5 2023-05-01      6\n"
     ]
    }
   ],
   "source": [
    "import pandas as pd\n",
    "import datetime as dt\n",
    "\n",
    "\n",
    "df = pd.DataFrame({\n",
    "    \"Date\": pd.to_datetime([\"2023-01-01\", \"2023-02-01\", \"2023-03-01\", \"2023-04-01\", \"2023-05-01\", \"2023-05-01\", \"2021-05-01\", \"2020-05-01\"]),\n",
    "    \"Value\": [1, 2, 3, 4, 5, 6, 7, 8]\n",
    "})\n",
    "\n",
    "#get the curent year\n",
    "current_date = pd.to_datetime(dt.datetime.now().date())\n",
    "\n",
    "#get the year for one year ago , which is curreny year -1\n",
    "one_year_ago = current_date - pd.DateOffset(years=1)\n",
    "\n",
    "#do the filtering\n",
    "df_filtered = df[df['Date'] >= one_year_ago]\n",
    "\n",
    "print(df_filtered)\n"
   ]
  },
  {
   "cell_type": "markdown",
   "metadata": {},
   "source": [
    "## Q6. What is the definition of a 180-day moving average?\n",
    "\n"
   ]
  },
  {
   "cell_type": "markdown",
   "metadata": {},
   "source": [
    ">A moving average is a trend-following indicator, which means that it is used to identify the direction of the trend. A rising moving average indicates that the trend is up, while a falling moving average indicates that the trend is down."
   ]
  },
  {
   "cell_type": "markdown",
   "metadata": {},
   "source": [
    ">The 180-day moving average can be used as a guide for entering and exiting trades. For example, a trader might buy a security when the price breaks above the 180-day moving average and sell the security when the price falls below the 180-day moving average."
   ]
  },
  {
   "cell_type": "markdown",
   "metadata": {},
   "source": [
    "## Q7. Did the chapter's final example use \"indirect\" importing? If so, how exactly do you do it?"
   ]
  },
  {
   "cell_type": "markdown",
   "metadata": {},
   "source": [
    "indirect importing has two forms\n",
    "\n",
    ">import module_name\n",
    "\n",
    ">import module_name as alias_name"
   ]
  }
 ],
 "metadata": {
  "kernelspec": {
   "display_name": "Python 3",
   "language": "python",
   "name": "python3"
  },
  "language_info": {
   "codemirror_mode": {
    "name": "ipython",
    "version": 3
   },
   "file_extension": ".py",
   "mimetype": "text/x-python",
   "name": "python",
   "nbconvert_exporter": "python",
   "pygments_lexer": "ipython3",
   "version": "3.9.10"
  },
  "orig_nbformat": 4
 },
 "nbformat": 4,
 "nbformat_minor": 2
}
