{
 "cells": [
  {
   "cell_type": "markdown",
   "id": "28f4397d",
   "metadata": {},
   "source": [
    "1. Why are functions advantageous to have in your programs?\n",
    "\n",
    "     functions are really advantageous in every programming languages as they really help us to reduce the code repetetions\n",
    "and program lenghth . we can use the same function with different arguments as many times as we want .we can call our     specified function anywhere in our program by a calling function\n",
    "     \n",
    "     "
   ]
  },
  {
   "cell_type": "markdown",
   "id": "a1bf2916",
   "metadata": {},
   "source": [
    "2. When does the code in a function run: when it's specified or when it's called?\n",
    "\n",
    "   functions runs only when we are calling the function .a function does not get executed when its declared\n",
    "\n",
    "\n",
    "   "
   ]
  },
  {
   "cell_type": "markdown",
   "id": "b35f3b11",
   "metadata": {},
   "source": [
    "3. What statement creates a function?\n",
    "\n",
    "   def function_name(arguments):    #arguments or parameters are not mandatory\n",
    "       #function body \n",
    "       "
   ]
  },
  {
   "cell_type": "markdown",
   "id": "46ff90f9",
   "metadata": {},
   "source": [
    "4. What is the difference between a function and a function call?\n",
    "\n",
    " function is specifying a function that contains a set of code meant to be executed when we are calling the function\n",
    " we can also pass the arguments along with function calling so function will be executed according to the passed values. we    need to declare the values when we declaring the function. a simple example given below\n",
    "  \n",
    "\n",
    "  "
   ]
  },
  {
   "cell_type": "code",
   "execution_count": 1,
   "id": "86a037a8",
   "metadata": {},
   "outputs": [
    {
     "data": {
      "text/plain": [
       "7"
      ]
     },
     "execution_count": 1,
     "metadata": {},
     "output_type": "execute_result"
    }
   ],
   "source": [
    "#declaring the function\n",
    "def adding_num(num1,num2):\n",
    "    return num1+num2\n",
    "\n",
    "#calling the function\n",
    "adding_num(5,2)"
   ]
  },
  {
   "cell_type": "markdown",
   "id": "ab03a5dc",
   "metadata": {},
   "source": [
    "5. How many global scopes are there in a Python program? How many local scopes?\n",
    "\n",
    "  \n",
    "    there are 4 vriable scopes in python . and python will always use the LEGB rule for the scopes of the variables\n",
    "   \n",
    "   * local   - which we define inside a function and can not be accesed  from anywhere else in the program\n",
    "   * global  - global variable can be accesed from any part of the program \n",
    "               we can use the keyword global to define a global variable inside a function\n",
    "   * enclosing- enclosed or nonLocal is variable that we use in nested functions. nonlocal function not local or global\n",
    "               they are accesible for the parent fnctions . we can use the keyword \"nonlocal\" for declaring a nonlocal variable\n",
    "               \n",
    "   * built-in  - built in scope is when we have not assigned any value to the variable ,oython will look for any built in value\n",
    "               for the variable . pi is an example (comes in math module)\n",
    "               \n",
    "               "
   ]
  },
  {
   "cell_type": "markdown",
   "id": "5375ea7b",
   "metadata": {},
   "source": [
    "6. What happens to variables in a local scope when the function call returns?\n",
    "\n",
    "  the memory address for the variable will be re allocated\n",
    "\n",
    "   "
   ]
  },
  {
   "cell_type": "markdown",
   "id": "fbb476d8",
   "metadata": {},
   "source": [
    "7. What is the concept of a return value? Is it possible to have a return value in an expression?\n",
    "\n",
    "   when we write a function . we can actually have something back when the function completing its task.thats called \n",
    "   return value. we can use the keyword \"return\" to return something from function\n",
    "   we can also write a function withoutn a return value too\n",
    "   \n",
    "   and it is possible to have return value from an expression. a fubnction can return even a boolean value\n",
    "   \n",
    "\n"
   ]
  },
  {
   "cell_type": "markdown",
   "id": "5cb8e754",
   "metadata": {},
   "source": [
    "8. If a function does not have a return statement, what is the return value of a call to that function?\n",
    "\n",
    "     return value will be none"
   ]
  },
  {
   "cell_type": "markdown",
   "id": "265a2f36",
   "metadata": {},
   "source": [
    "9. How do you make a function variable refer to the global variable?\n",
    "\n",
    "    we can use the keyword global when initializing that variable\n",
    "    \n",
    "    eg : global x "
   ]
  },
  {
   "cell_type": "markdown",
   "id": "8d04b318",
   "metadata": {},
   "source": [
    "10. What is the data type of None?\n",
    "\n",
    " there is no specified data type for none. none is of nonetype .subjecting to a null value"
   ]
  },
  {
   "cell_type": "markdown",
   "id": "e62e72d1",
   "metadata": {},
   "source": [
    "11. What does the sentence import areallyourpetsnamederic do?\n",
    "\n",
    "  it will try to import a module named areallyoutpetsnamederic \n",
    "  if there is no module named like that, then it will raise an error\n",
    "  otherwise it will allow us to use all the functions written in the module\n"
   ]
  },
  {
   "cell_type": "markdown",
   "id": "9d6b0550",
   "metadata": {},
   "source": [
    "12. If you had a bacon() feature in a spam module, what would you call it after importing spam?\n",
    "\n",
    "    import spam\n",
    "    \n",
    "    spam.bacon()"
   ]
  },
  {
   "cell_type": "markdown",
   "id": "6667291f",
   "metadata": {},
   "source": [
    "13. What can you do to save a programme from crashing if it encounters an error?\n",
    "\n",
    "   we can use the try and except blocks \n",
    "   \n",
    "   when some errors occure in try block ,it will pass the execution to exception block instead of blocking the program\n",
    "   \n",
    "   we can use exception handling and logging for more detailed error handling"
   ]
  },
  {
   "cell_type": "markdown",
   "id": "dc086184",
   "metadata": {},
   "source": [
    "14. What is the purpose of the try clause? What is the purpose of the except clause?\n",
    "\n",
    "   try clause will have our code and it runs normally. if any error occures , then it automatically runs the exception block\n",
    "   syntax given below\n",
    "   \n",
    "   try:\n",
    "   \n",
    "           #code block  \n",
    "       \n",
    "   except:\n",
    "   \n",
    "            #exception block\n",
    "   \n",
    "  "
   ]
  },
  {
   "cell_type": "code",
   "execution_count": null,
   "id": "80defd16",
   "metadata": {},
   "outputs": [],
   "source": []
  }
 ],
 "metadata": {
  "kernelspec": {
   "display_name": "Python 3 (ipykernel)",
   "language": "python",
   "name": "python3"
  },
  "language_info": {
   "codemirror_mode": {
    "name": "ipython",
    "version": 3
   },
   "file_extension": ".py",
   "mimetype": "text/x-python",
   "name": "python",
   "nbconvert_exporter": "python",
   "pygments_lexer": "ipython3",
   "version": "3.9.12"
  }
 },
 "nbformat": 4,
 "nbformat_minor": 5
}
