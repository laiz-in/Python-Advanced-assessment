{
 "cells": [
  {
   "attachments": {},
   "cell_type": "markdown",
   "metadata": {},
   "source": [
    "Q1. What is the meaning of multiple inheritance?"
   ]
  },
  {
   "cell_type": "code",
   "execution_count": 4,
   "metadata": {},
   "outputs": [
    {
     "name": "stdout",
     "output_type": "stream",
     "text": [
      "54 marks in maths\n"
     ]
    }
   ],
   "source": [
    "# Multiple inhertance is a structure of programming that allows the devoloper to inherite a class from multiple parent classes\n",
    "\n",
    "# if have two classes named class MARKS  and class SUBJECTS\n",
    "\n",
    "# then i can inherite a new class from these two classes and i can acces the variables from two classes to my new class\n",
    "\n",
    "class Marks:\n",
    "    def __init__(self):\n",
    "        self.mark = 54\n",
    "\n",
    "class Subjects:\n",
    "    def __init__(self):\n",
    "        self.subjectname = \"maths\"\n",
    "\n",
    "class Analytics(Marks, Subjects):\n",
    "    def __init__(self):\n",
    "        Marks.__init__(self)\n",
    "        Subjects.__init__(self)\n",
    "\n",
    "    def report(self):\n",
    "        report_str = f\"{self.mark} marks in {self.subjectname}\"\n",
    "        return report_str\n",
    "analytics = Analytics()\n",
    "print(analytics.report())\n"
   ]
  },
  {
   "attachments": {},
   "cell_type": "markdown",
   "metadata": {},
   "source": [
    "Q2. What is the concept of delegation?"
   ]
  },
  {
   "attachments": {},
   "cell_type": "markdown",
   "metadata": {},
   "source": [
    "as the name indicates . delegation means one class taking the job of another class if that class doesnt have the ability \n",
    "\n",
    "to perform that specific task eg:\n"
   ]
  },
  {
   "cell_type": "code",
   "execution_count": 5,
   "metadata": {},
   "outputs": [
    {
     "name": "stdout",
     "output_type": "stream",
     "text": [
      "raju's report for maths: 54\n"
     ]
    }
   ],
   "source": [
    "class Student:\n",
    "    def __init__(self, name, subject, mark):\n",
    "        self.name = name\n",
    "        self.subject = subject\n",
    "        self.mark = mark\n",
    "\n",
    "    def generate_report(self):\n",
    "        report = f\"{self.name}'s report for {self.subject}: {self.mark}\"\n",
    "        return report\n",
    "\n",
    "class ReportGenerator:\n",
    "    def __init__(self, student):\n",
    "        self.student = student\n",
    "\n",
    "    def generate_report(self):\n",
    "        return self.student.generate_report()\n",
    "\n",
    "\n",
    "student = Student(\"raju\", \"maths\", 54)\n",
    "report_generator = ReportGenerator(student)\n",
    "print(report_generator.generate_report()) \n"
   ]
  },
  {
   "attachments": {},
   "cell_type": "markdown",
   "metadata": {},
   "source": [
    "Q3. What is the concept of composition?"
   ]
  },
  {
   "attachments": {},
   "cell_type": "markdown",
   "metadata": {},
   "source": [
    "composition in python is the best way to reuse the code and its the best practice for oops programming\n",
    "\n",
    "the concept is adding two classes in a new class and reusing the code we have written in first two classes , example is given below"
   ]
  },
  {
   "cell_type": "code",
   "execution_count": 7,
   "metadata": {},
   "outputs": [
    {
     "name": "stdout",
     "output_type": "stream",
     "text": [
      "raju: 85\n"
     ]
    }
   ],
   "source": [
    "class Marks:\n",
    "    def __init__(self, mark):\n",
    "        self.mark = mark\n",
    "\n",
    "class Student:\n",
    "    def __init__(self, name, marks):\n",
    "        self.name = name\n",
    "        self.marks = marks\n",
    "    \n",
    "    def get_report(self):\n",
    "        return f\"{self.name}: {self.marks.mark}\"\n",
    "\n",
    "maths = Marks(85)\n",
    "student1 = Student(\"raju\", maths)\n",
    "print(student1.get_report())\n",
    "\n",
    "# here we are using the getreport method without rewritng the codes fro mark and name . we are just compositing that classes\n",
    "# we can create as much as students and we can just create intances of marks"
   ]
  },
  {
   "attachments": {},
   "cell_type": "markdown",
   "metadata": {},
   "source": [
    "Q4. What are bound methods and how do we use them?\n"
   ]
  },
  {
   "attachments": {},
   "cell_type": "markdown",
   "metadata": {},
   "source": [
    "Bound methods hepls us to use methods of a class on a certain instance of the class, it can be useful when we want to reuse a method on multiple instances of the same class. "
   ]
  },
  {
   "cell_type": "code",
   "execution_count": 9,
   "metadata": {},
   "outputs": [
    {
     "name": "stdout",
     "output_type": "stream",
     "text": [
      "54\n",
      "mark is updating..\n",
      "\n",
      "mark after updating  90\n"
     ]
    }
   ],
   "source": [
    "class Student:\n",
    "    def __init__(self, name, mark):\n",
    "        self.name = name\n",
    "        self.mark = mark\n",
    "        \n",
    "    def get_name(self):\n",
    "        return self.name\n",
    "    \n",
    "    def get_mark(self):\n",
    "        return self.mark\n",
    "    \n",
    "    def set_mark(self, new_mark):\n",
    "        self.mark = new_mark\n",
    "        \n",
    "s = Student(\"raju\", 54)\n",
    "get_mark = s.get_mark \n",
    "#defining a bound method\n",
    "\n",
    "print(get_mark()) \n",
    "\n",
    "set_mark = s.set_mark # creating a bound method\n",
    "print(\"mark is updating..\")\n",
    "set_mark(90) \n",
    "#resetting the mark to a different value\n",
    "\n",
    "print(\"\\nmark after updating \",s.get_mark()) \n"
   ]
  },
  {
   "attachments": {},
   "cell_type": "markdown",
   "metadata": {},
   "source": [
    "Q5. What is the purpose of pseudoprivate attributes?"
   ]
  },
  {
   "attachments": {},
   "cell_type": "markdown",
   "metadata": {},
   "source": [
    "pseudoprivate attribute is OOP concept , it refers to the the attributes which are private to the class and can not tbe accesed or modified outside the class. its defined by \"__\" (two undescores\"). it prevents the conflicts of having same attribute names in different classes"
   ]
  },
  {
   "cell_type": "code",
   "execution_count": 1,
   "metadata": {},
   "outputs": [
    {
     "name": "stdout",
     "output_type": "stream",
     "text": [
      "mark is accesed within class, mark :  54\n"
     ]
    },
    {
     "ename": "AttributeError",
     "evalue": "'student' object has no attribute '__mark'",
     "output_type": "error",
     "traceback": [
      "\u001b[1;31m---------------------------------------------------------------------------\u001b[0m",
      "\u001b[1;31mAttributeError\u001b[0m                            Traceback (most recent call last)",
      "Cell \u001b[1;32mIn[1], line 10\u001b[0m\n\u001b[0;32m      8\u001b[0m my_object \u001b[39m=\u001b[39m student()\n\u001b[0;32m      9\u001b[0m \u001b[39mprint\u001b[39m(\u001b[39m\"\u001b[39m\u001b[39mmark is accesed within class, mark : \u001b[39m\u001b[39m\"\u001b[39m,my_object\u001b[39m.\u001b[39mget_mark())  \n\u001b[1;32m---> 10\u001b[0m \u001b[39mprint\u001b[39m(\u001b[39m\"\u001b[39m\u001b[39mtrying to acces outside the class mark : \u001b[39m\u001b[39m\"\u001b[39m,my_object\u001b[39m.\u001b[39;49m__mark) \u001b[39m#this line will raise the error\u001b[39;00m\n",
      "\u001b[1;31mAttributeError\u001b[0m: 'student' object has no attribute '__mark'"
     ]
    }
   ],
   "source": [
    "class student:\n",
    "    def __init__(self):\n",
    "        self.__mark= 54\n",
    "\n",
    "    def get_mark(self):\n",
    "        return self.__mark\n",
    "\n",
    "my_object = student()\n",
    "print(\"mark is accesed within class, mark : \",my_object.get_mark())  \n",
    "print(\"trying to acces mark outside the class mark : \",my_object.__mark) #this line will raise the error\n"
   ]
  }
 ],
 "metadata": {
  "kernelspec": {
   "display_name": "Python 3",
   "language": "python",
   "name": "python3"
  },
  "language_info": {
   "codemirror_mode": {
    "name": "ipython",
    "version": 3
   },
   "file_extension": ".py",
   "mimetype": "text/x-python",
   "name": "python",
   "nbconvert_exporter": "python",
   "pygments_lexer": "ipython3",
   "version": "3.9.10"
  },
  "orig_nbformat": 4
 },
 "nbformat": 4,
 "nbformat_minor": 2
}
